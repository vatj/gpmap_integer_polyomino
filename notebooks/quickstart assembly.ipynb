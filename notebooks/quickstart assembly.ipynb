{
 "cells": [
  {
   "cell_type": "markdown",
   "metadata": {},
   "source": [
    "# Quickstart Assembly API"
   ]
  },
  {
   "cell_type": "markdown",
   "metadata": {},
   "source": [
    "## Boilerplate"
   ]
  },
  {
   "cell_type": "code",
   "execution_count": 15,
   "metadata": {},
   "outputs": [
    {
     "name": "stdout",
     "output_type": "stream",
     "text": [
      "/home/phd/Projects/Github/integer_polyomino/notebooks\n"
     ]
    }
   ],
   "source": [
    "import os, sys\n",
    "os.nice(15)\n",
    "print(os.getcwd())\n",
    "\n",
    "import integer_polyomino.assembly as ipa"
   ]
  },
  {
   "cell_type": "markdown",
   "metadata": {},
   "source": [
    "## Set-up data directory"
   ]
  },
  {
   "cell_type": "code",
   "execution_count": 4,
   "metadata": {},
   "outputs": [],
   "source": [
    "data_dir = os.path.join(os.getcwd(), \"test\", \"data\")\n",
    "if not os.path.exists(data_dir):\n",
    "    os.makedirs(data_dir)"
   ]
  },
  {
   "cell_type": "markdown",
   "metadata": {},
   "source": [
    "## Set up hyperparameters"
   ]
  },
  {
   "cell_type": "code",
   "execution_count": 7,
   "metadata": {},
   "outputs": [],
   "source": [
    "parameters = dict()\n",
    "\n",
    "parameters[\"threshold\"] = 0.10  # Shape must be built at least 10% of the time to not be considered as rare\n",
    "parameters[\"phenotype_builds\"] = 100 # Number of assembly process for each genotype\n",
    "parameters[\"fixed_table\"] = False  # Add entries to the phenotype table if discover new phenotype\n",
    "parameters[\"determinism\"] = 1 # Polyomino shape matching level. Set to 1\n",
    "parameters[\"table_file\"] = os.path.join(data_dir, \"PhenotypeTable_D{determinism}.txt\".format(**parameters)) # Initial Phenotype Table"
   ]
  },
  {
   "cell_type": "markdown",
   "metadata": {},
   "source": [
    "## Assembly API"
   ]
  },
  {
   "cell_type": "markdown",
   "metadata": {},
   "source": [
    "### Assemble one or several genotypes\n",
    "Return polyomino IDs"
   ]
  },
  {
   "cell_type": "code",
   "execution_count": 8,
   "metadata": {},
   "outputs": [
    {
     "name": "stdout",
     "output_type": "stream",
     "text": [
      "Loading table from :  /home/phd/Projects/Github/integer_polyomino/notebooks/test/data/PhenotypeTable_D1.txt\n"
     ]
    },
    {
     "data": {
      "text/plain": [
       "[(4, 0), (16, 0)]"
      ]
     },
     "execution_count": 8,
     "metadata": {},
     "output_type": "execute_result"
    }
   ],
   "source": [
    "ipa.AssemblePlasticGenotype([0,0,1,2,0,2,3,4], **parameters)"
   ]
  },
  {
   "cell_type": "code",
   "execution_count": 16,
   "metadata": {},
   "outputs": [
    {
     "name": "stdout",
     "output_type": "stream",
     "text": [
      "Loading table from :  /home/phd/Projects/Github/integer_polyomino/notebooks/test/data/PhenotypeTable_D1.txt\n"
     ]
    },
    {
     "data": {
      "text/plain": [
       "[[(3, 0)], [(255, 0)]]"
      ]
     },
     "execution_count": 16,
     "metadata": {},
     "output_type": "execute_result"
    }
   ],
   "source": [
    "ipa.AssemblePlasticGenotypes([[0,0,0,1,0,0,2,2], [0,0,1,3,0,0,2,4]], **parameters)"
   ]
  },
  {
   "cell_type": "markdown",
   "metadata": {},
   "source": [
    "### IDs can be converted to shape using the phenotype table"
   ]
  },
  {
   "cell_type": "code",
   "execution_count": null,
   "metadata": {},
   "outputs": [],
   "source": []
  },
  {
   "cell_type": "markdown",
   "metadata": {},
   "source": [
    "### Assemble one or several genotypes and return information about frequency distribution"
   ]
  },
  {
   "cell_type": "code",
   "execution_count": 17,
   "metadata": {},
   "outputs": [
    {
     "name": "stdout",
     "output_type": "stream",
     "text": [
      "Loading table from :  /home/phd/Projects/Github/integer_polyomino/notebooks/test/data/PhenotypeTable_D1.txt\n"
     ]
    },
    {
     "data": {
      "text/plain": [
       "{(4, 0): 17, (16, 0): 83}"
      ]
     },
     "execution_count": 17,
     "metadata": {},
     "output_type": "execute_result"
    }
   ],
   "source": [
    "ipa.AssemblePlasticGenotypeFrequency([0,0,1,2,0,2,3,4], **parameters)"
   ]
  },
  {
   "cell_type": "code",
   "execution_count": 18,
   "metadata": {},
   "outputs": [
    {
     "name": "stdout",
     "output_type": "stream",
     "text": [
      "Loading table from :  /home/phd/Projects/Github/integer_polyomino/notebooks/test/data/PhenotypeTable_D1.txt\n"
     ]
    },
    {
     "data": {
      "text/plain": [
       "[{(3, 0): 100}, {(255, 0): 1}]"
      ]
     },
     "execution_count": 18,
     "metadata": {},
     "output_type": "execute_result"
    }
   ],
   "source": [
    "ipa.AssemblePlasticGenotypesFrequency([[0,0,0,1,0,0,2,2], [0,0,1,3,0,0,2,4]], **parameters)"
   ]
  },
  {
   "cell_type": "code",
   "execution_count": null,
   "metadata": {},
   "outputs": [],
   "source": []
  }
 ],
 "metadata": {
  "@webio": {
   "lastCommId": "04CA5F2DD47B47979C5F512BA6CD90B1",
   "lastKernelId": "d37ff726-e0c4-4e84-ad1f-9ca68fa66634"
  },
  "kernelspec": {
   "display_name": "release_polyo",
   "language": "python",
   "name": "release_polyo"
  },
  "language_info": {
   "codemirror_mode": {
    "name": "ipython",
    "version": 3
   },
   "file_extension": ".py",
   "mimetype": "text/x-python",
   "name": "python",
   "nbconvert_exporter": "python",
   "pygments_lexer": "ipython3",
   "version": "3.6.9"
  }
 },
 "nbformat": 4,
 "nbformat_minor": 2
}
