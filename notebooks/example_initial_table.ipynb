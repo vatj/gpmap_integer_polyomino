{
 "cells": [
  {
   "cell_type": "code",
   "execution_count": null,
   "metadata": {},
   "outputs": [],
   "source": [
    "import sys, os\n",
    "sys.path.append(\"/home/phd/Projects/Github/polyomino_integer/module\")\n",
    "sys.path.append(\"/home/phd/Projects/Github/polyomino_integer/scripts\")"
   ]
  },
  {
   "cell_type": "code",
   "execution_count": null,
   "metadata": {},
   "outputs": [],
   "source": [
    "import polyo\n",
    "import graph_topo"
   ]
  },
  {
   "cell_type": "code",
   "execution_count": null,
   "metadata": {},
   "outputs": [],
   "source": [
    "data_dir = os.getcwd() + \"/../data/V1/\""
   ]
  },
  {
   "cell_type": "code",
   "execution_count": null,
   "metadata": {},
   "outputs": [],
   "source": [
    "p = dict()\n",
    "\n",
    "p[\"n_genes\"] = 4\n",
    "p[\"low_colour\"] = 0\n",
    "p[\"high_colour\"] = 10\n",
    "p[\"threshold\"] = 25\n",
    "p[\"phenotype_builds\"] = p[\"n_genes\"] * 100\n",
    "p[\"fixed_table\"] = False\n",
    "p[\"determinism\"] = 1\n",
    "p[\"genome_file\"] = data_dir + \"Genomes_N{n_genes}_C{high_colour}_T{threshold}_B{phenotype_builds}_D{determinism}_S{low_colour}.txt\".format(**p)\n",
    "p[\"threshold\"] = p[\"threshold\"] / 100"
   ]
  },
  {
   "cell_type": "code",
   "execution_count": null,
   "metadata": {},
   "outputs": [],
   "source": [
    "minimal_genomes = polyo.MinimalGenomes(**p);\n",
    "uniques = [];\n",
    "for pIDs, genomes in polyo.MinimalMap(**p).items():\n",
    "    uniques.extend(graph_topo.TrimTopo(genomes))\n",
    "    \n",
    "print(len(uniques), len(minimal_genomes))"
   ]
  },
  {
   "cell_type": "code",
   "execution_count": null,
   "metadata": {},
   "outputs": [],
   "source": [
    "p[\"table_file\"] = data_dir + \"PhenotypeTable_N{n_genes}_T25_D{determinism}.txt\".format(**p)\n",
    "polyo.PrintTableFromMap(**p)"
   ]
  },
  {
   "cell_type": "code",
   "execution_count": null,
   "metadata": {},
   "outputs": [],
   "source": []
  }
 ],
 "metadata": {
  "kernelspec": {
   "display_name": "polyomino_integer",
   "language": "python",
   "name": "polyomino_integer"
  },
  "language_info": {
   "codemirror_mode": {
    "name": "ipython",
    "version": 3
   },
   "file_extension": ".py",
   "mimetype": "text/x-python",
   "name": "python",
   "nbconvert_exporter": "python",
   "pygments_lexer": "ipython3",
   "version": "3.6.8"
  }
 },
 "nbformat": 4,
 "nbformat_minor": 2
}
