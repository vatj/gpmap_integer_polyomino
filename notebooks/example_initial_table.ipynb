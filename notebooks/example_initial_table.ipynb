{
 "cells": [
  {
   "cell_type": "code",
   "execution_count": null,
   "metadata": {
    "ExecuteTime": {
     "end_time": "2019-02-08T20:51:58.720203Z",
     "start_time": "2019-02-08T20:51:58.708353Z"
    }
   },
   "outputs": [],
   "source": [
    "import sys, os\n",
    "os.nice(15)"
   ]
  },
  {
   "cell_type": "code",
   "execution_count": null,
   "metadata": {
    "ExecuteTime": {
     "end_time": "2019-02-08T20:51:58.896525Z",
     "start_time": "2019-02-08T20:51:58.721745Z"
    }
   },
   "outputs": [],
   "source": [
    "from shutil import copyfile"
   ]
  },
  {
   "cell_type": "code",
   "execution_count": null,
   "metadata": {
    "ExecuteTime": {
     "end_time": "2019-02-08T20:51:59.505177Z",
     "start_time": "2019-02-08T20:51:58.900837Z"
    }
   },
   "outputs": [],
   "source": [
    "import integer_polyomino.assembly as ipa\n",
    "import integer_polyomino.gpmap as gp\n",
    "sys.path.append(os.path.join(os.getcwd(), \"..\", \"src\", \"integer_polyomino\", \"scripts\"))\n",
    "import graph_topo"
   ]
  },
  {
   "cell_type": "code",
   "execution_count": null,
   "metadata": {
    "ExecuteTime": {
     "end_time": "2019-02-08T20:51:59.511113Z",
     "start_time": "2019-02-08T20:51:59.507900Z"
    }
   },
   "outputs": [],
   "source": [
    "data_dir = os.path.join(os.getcwd(), \"..\", \"data\", \"V\" + ipa.__version__)\n",
    "if not os.path.exists(data_dir):\n",
    "    os.makedirs(data_dir)"
   ]
  },
  {
   "cell_type": "code",
   "execution_count": null,
   "metadata": {
    "ExecuteTime": {
     "end_time": "2019-02-08T20:51:59.630133Z",
     "start_time": "2019-02-08T20:51:59.514266Z"
    }
   },
   "outputs": [],
   "source": [
    "p = dict()\n",
    "\n",
    "p[\"n_genes\"] = 2\n",
    "p[\"low_colour\"] = 0\n",
    "p[\"high_colour\"] = 10\n",
    "p[\"threshold\"] = 25\n",
    "p[\"phenotype_builds\"] = p[\"n_genes\"] * 100\n",
    "p[\"fixed_table\"] = False\n",
    "p[\"determinism\"] = 1\n",
    "p[\"genome_file\"] = os.path.join(data_dir, \"Genomes_N{n_genes}_C{high_colour}_T{threshold}_B{phenotype_builds}_D{determinism}_S{low_colour}.txt\".format(**p))\n",
    "p[\"threshold\"] /= 100"
   ]
  },
  {
   "cell_type": "code",
   "execution_count": null,
   "metadata": {
    "ExecuteTime": {
     "end_time": "2019-02-08T20:51:59.939086Z",
     "start_time": "2019-02-08T20:51:59.632387Z"
    }
   },
   "outputs": [],
   "source": [
    "minimal_genomes = gp.MinimalGenomes(**p);\n",
    "uniques = [];\n",
    "for pIDs, genomes in gp.MinimalMap(**p).items():\n",
    "    uniques.extend(graph_topo.TrimTopo(genomes))\n",
    "    \n",
    "print(len(uniques), len(minimal_genomes))"
   ]
  },
  {
   "cell_type": "code",
   "execution_count": null,
   "metadata": {
    "ExecuteTime": {
     "end_time": "2019-02-08T20:52:00.105238Z",
     "start_time": "2019-02-08T20:51:59.940243Z"
    }
   },
   "outputs": [],
   "source": [
    "p[\"threshold\"] = int(p[\"threshold\"] * 100)\n",
    "p.pop(\"genome_file\", None)\n",
    "p[\"table_file\"] = os.path.join(data_dir, \"PhenotypeTable_N{n_genes}_T{threshold}_D{determinism}.txt\".format(**p))\n",
    "gp.PrintTableFromMap(genomes=uniques, **p)"
   ]
  },
  {
   "cell_type": "code",
   "execution_count": null,
   "metadata": {
    "ExecuteTime": {
     "end_time": "2019-02-08T20:52:00.274295Z",
     "start_time": "2019-02-08T20:52:00.106267Z"
    }
   },
   "outputs": [],
   "source": [
    "copyfile(os.path.join(data_dir, \"PhenotypeTable_N{n_genes}_T{threshold}_D{determinism}.txt\".format(**p)), os.path.join(data_dir, \"PhenotypeTable_D{determinism}.txt\".format(**p)))"
   ]
  },
  {
   "cell_type": "code",
   "execution_count": null,
   "metadata": {},
   "outputs": [],
   "source": []
  }
 ],
 "metadata": {
  "@webio": {
   "lastCommId": "B653EAD225DC4F1686E6800B2B6CA7A6",
   "lastKernelId": "ab5ccf0f-83e1-48d1-9752-fd510a0409f5"
  },
  "kernelspec": {
   "display_name": "Integer Polyo",
   "language": "python",
   "name": "integer_polyo"
  },
  "language_info": {
   "codemirror_mode": {
    "name": "ipython",
    "version": 3
   },
   "file_extension": ".py",
   "mimetype": "text/x-python",
   "name": "python",
   "nbconvert_exporter": "python",
   "pygments_lexer": "ipython3",
   "version": "3.6.5"
  }
 },
 "nbformat": 4,
 "nbformat_minor": 2
}
