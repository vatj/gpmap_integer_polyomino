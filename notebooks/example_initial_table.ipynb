{
 "cells": [
  {
   "cell_type": "code",
   "execution_count": null,
   "metadata": {
    "ExecuteTime": {
     "end_time": "2019-02-08T17:02:49.463214Z",
     "start_time": "2019-02-08T17:02:49.453057Z"
    }
   },
   "outputs": [],
   "source": [
    "import sys, os\n",
    "os.nice(15)"
   ]
  },
  {
   "cell_type": "code",
   "execution_count": null,
   "metadata": {
    "ExecuteTime": {
     "end_time": "2019-02-08T18:13:57.900082Z",
     "start_time": "2019-02-08T18:13:57.896183Z"
    }
   },
   "outputs": [],
   "source": [
    "from shutil import copyfile"
   ]
  },
  {
   "cell_type": "code",
   "execution_count": null,
   "metadata": {
    "ExecuteTime": {
     "end_time": "2019-02-08T17:02:49.911720Z",
     "start_time": "2019-02-08T17:02:49.776243Z"
    }
   },
   "outputs": [],
   "source": [
    "import integer_polyomino.assembly as ipa\n",
    "import integer_polyomino.gpmap as gp\n",
    "sys.path.append(os.path.join(os.getcwd(), \"..\", \"src\", \"integer_polyomino\", \"scripts\"))\n",
    "import graph_topo"
   ]
  },
  {
   "cell_type": "code",
   "execution_count": null,
   "metadata": {
    "ExecuteTime": {
     "end_time": "2019-02-08T17:02:50.620309Z",
     "start_time": "2019-02-08T17:02:50.614279Z"
    }
   },
   "outputs": [],
   "source": [
    "data_dir = os.path.join(os.getcwd(), \"..\", \"data\", \"V\" + ipa.__version__)\n",
    "if not os.path.exists(data_dir):\n",
    "    os.makedirs(data_dir)"
   ]
  },
  {
   "cell_type": "code",
   "execution_count": null,
   "metadata": {
    "ExecuteTime": {
     "end_time": "2019-02-08T17:02:51.896080Z",
     "start_time": "2019-02-08T17:02:51.888332Z"
    }
   },
   "outputs": [],
   "source": [
    "p = dict()\n",
    "\n",
    "p[\"n_genes\"] = 4\n",
    "p[\"low_colour\"] = 0\n",
    "p[\"high_colour\"] = 10\n",
    "p[\"threshold\"] = 25\n",
    "p[\"phenotype_builds\"] = p[\"n_genes\"] * 100\n",
    "p[\"fixed_table\"] = False\n",
    "p[\"determinism\"] = 1\n",
    "p[\"genome_file\"] = os.path.join(data_dir, \"Genomes_N{n_genes}_C{high_colour}_T{threshold}_B{phenotype_builds}_D{determinism}_S{low_colour}.txt\".format(**p))\n",
    "p[\"threshold\"] /= 100"
   ]
  },
  {
   "cell_type": "code",
   "execution_count": null,
   "metadata": {
    "ExecuteTime": {
     "end_time": "2019-02-08T17:59:56.522081Z",
     "start_time": "2019-02-08T17:02:52.971877Z"
    }
   },
   "outputs": [],
   "source": [
    "minimal_genomes = gp.MinimalGenomes(**p);\n",
    "uniques = [];\n",
    "for pIDs, genomes in gp.MinimalMap(**p).items():\n",
    "    uniques.extend(graph_topo.TrimTopo(genomes))\n",
    "    \n",
    "print(len(uniques), len(minimal_genomes))"
   ]
  },
  {
   "cell_type": "code",
   "execution_count": null,
   "metadata": {
    "ExecuteTime": {
     "end_time": "2019-02-08T18:07:36.915208Z",
     "start_time": "2019-02-08T18:07:32.193077Z"
    }
   },
   "outputs": [],
   "source": [
    "p[\"threshold\"] = int(p[\"threshold\"] * 100)\n",
    "p.pop(\"genome_file\", None)\n",
    "p[\"table_file\"] = os.path.join(data_dir, \"PhenotypeTable_N{n_genes}_T{threshold}_D{determinism}.txt\".format(**p))\n",
    "gp.PrintTableFromMap(genomes=uniques, **p)"
   ]
  },
  {
   "cell_type": "code",
   "execution_count": null,
   "metadata": {
    "ExecuteTime": {
     "end_time": "2019-02-08T18:14:18.586192Z",
     "start_time": "2019-02-08T18:14:18.575306Z"
    }
   },
   "outputs": [],
   "source": [
    "copyfile(os.path.join(data_dir, \"PhenotypeTable_N{n_genes}_T{threshold}_D{determinism}.txt\".format(**p)), os.path.join(data_dir, \"PhenotypeTable_D{determinism}.txt\".format(**p)))"
   ]
  },
  {
   "cell_type": "code",
   "execution_count": null,
   "metadata": {},
   "outputs": [],
   "source": []
  }
 ],
 "metadata": {
  "@webio": {
   "lastCommId": "6C0C16BF54A3459283CD68EDCD360261",
   "lastKernelId": "09655a48-9696-4a5c-99a5-f8d6c602fcc3"
  },
  "kernelspec": {
   "display_name": "Integer Polyo",
   "language": "python",
   "name": "integer_polyo"
  },
  "language_info": {
   "codemirror_mode": {
    "name": "ipython",
    "version": 3
   },
   "file_extension": ".py",
   "mimetype": "text/x-python",
   "name": "python",
   "nbconvert_exporter": "python",
   "pygments_lexer": "ipython3",
   "version": "3.6.5"
  }
 },
 "nbformat": 4,
 "nbformat_minor": 2
}
