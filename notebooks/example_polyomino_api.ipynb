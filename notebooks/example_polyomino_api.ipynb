{
 "cells": [
  {
   "cell_type": "code",
   "execution_count": null,
   "metadata": {},
   "outputs": [],
   "source": [
    "import sys, os\n",
    "import pandas as pd\n",
    "import numpy as np"
   ]
  },
  {
   "cell_type": "code",
   "execution_count": null,
   "metadata": {},
   "outputs": [],
   "source": [
    "sys.path.append(\"/home/phd/Projects/Github/polyomino_integer/module\")\n",
    "sys.path.append(\"/home/phd/Projects/Github/polyomino_integer/scripts\")\n",
    "import polyo\n",
    "import graph_topo\n",
    "import pandas as pd\n",
    "import numpy as np"
   ]
  },
  {
   "cell_type": "code",
   "execution_count": null,
   "metadata": {},
   "outputs": [],
   "source": [
    "%matplotlib inline"
   ]
  },
  {
   "cell_type": "code",
   "execution_count": null,
   "metadata": {},
   "outputs": [],
   "source": [
    "data_dir = os.getcwd()\n",
    "\n",
    "parameters = dict()\n",
    "\n",
    "parameters[\"threshold\"] = 0.10\n",
    "parameters[\"phenotype_builds\"] = 120\n",
    "parameters[\"table_file\"] = data_dir + \"/Table.txt\"\n",
    "parameters[\"fixed_table\"] = False\n",
    "parameters[\"determinism\"] = 1"
   ]
  },
  {
   "cell_type": "code",
   "execution_count": null,
   "metadata": {},
   "outputs": [],
   "source": [
    "polyo.AssemblePlasticGenotype([0,0,1,2,0,0,0,2], **parameters)"
   ]
  },
  {
   "cell_type": "code",
   "execution_count": null,
   "metadata": {},
   "outputs": [],
   "source": [
    "polyo.AssemblePlasticGenotypeFrequency([0,0,1,2,0,0,0,2], **parameters);"
   ]
  },
  {
   "cell_type": "code",
   "execution_count": null,
   "metadata": {},
   "outputs": [],
   "source": [
    "polyo.AssemblePlasticGenotypeFrequency([0, 0, 0, 1, 0, 0, 2, 2], **parameters);"
   ]
  },
  {
   "cell_type": "code",
   "execution_count": null,
   "metadata": {},
   "outputs": [],
   "source": [
    "p = dict()\n",
    "\n",
    "p[\"n_genes\"] = 2\n",
    "p[\"low_colour\"] = 0\n",
    "p[\"high_colour\"] = 6\n",
    "p[\"threshold\"] = 25\n",
    "p[\"phenotype_builds\"] = 250\n",
    "p[\"fixed_table\"] = False\n",
    "p[\"determinism\"] = 1\n",
    "p[\"genome_file\"] = data_dir + \"/genomes_N{n_genes}_C{high_colour}_T{threshold}_B{phenotype_builds}.txt\".format(**p)\n",
    "p[\"table_file\"] = data_dir + \"/Table_N{n_genes}_C{high_colour}_T{threshold}_B{phenotype_builds}.txt\".format(**p)\n",
    "p[\"gpmap_file\"] = data_dir + \"/gpmap_N{n_genes}_C{high_colour}_T{threshold}_B{phenotype_builds}.txt\".format(**p)\n",
    "p[\"threshold\"] = p[\"threshold\"] / 100"
   ]
  },
  {
   "cell_type": "code",
   "execution_count": null,
   "metadata": {},
   "outputs": [],
   "source": [
    "minimal_genomes = polyo.MinimalGenomes(**p);"
   ]
  },
  {
   "cell_type": "code",
   "execution_count": null,
   "metadata": {},
   "outputs": [],
   "source": [
    "gpmap = polyo.MinimalMap(**p);"
   ]
  },
  {
   "cell_type": "code",
   "execution_count": null,
   "metadata": {},
   "outputs": [],
   "source": [
    "polyo.GenotypeNeighbourhood([0,0,1,2], low_colour=-1, high_colour=2);"
   ]
  },
  {
   "cell_type": "code",
   "execution_count": null,
   "metadata": {},
   "outputs": [],
   "source": [
    "uniques = [];\n",
    "for pIDs, genomes in polyo.MinimalMap(**p).items():\n",
    "    uniques.extend(graph_topo.TrimTopo(genomes))"
   ]
  },
  {
   "cell_type": "code",
   "execution_count": null,
   "metadata": {},
   "outputs": [],
   "source": [
    "p[\"n_genes\"] = 2\n",
    "p[\"gen_colour\"] = 6\n",
    "p[\"high_colour\"] = 8\n",
    "p[\"n_jiggle\"] = 100\n",
    "p[\"dup_aware\"] = False\n",
    "p[\"genome_file\"] = \"None\"\n",
    "p[\"genomes\"] = uniques\n",
    "p[\"genome_metric_file\"] = data_dir + \"/GenomeMetrics_N{n_genes}_C{gen_colour}_T{threshold}_B{phenotype_builds}_Cx{high_colour}_J{n_jiggle}.txt\".format(**p)\n",
    "p[\"set_metric_file\"] = data_dir + \"/SetMetrics_N{n_genes}_C{gen_colour}_T{threshold}_B{phenotype_builds}_Cx{high_colour}_J{n_jiggle}.txt\".format(**p)"
   ]
  },
  {
   "cell_type": "code",
   "execution_count": null,
   "metadata": {},
   "outputs": [],
   "source": [
    "polyo.MetricSampling(**p)"
   ]
  },
  {
   "cell_type": "code",
   "execution_count": null,
   "metadata": {},
   "outputs": [],
   "source": [
    "metric_struct = polyo.MetricNeighbourhood([0,0,0,1,0,0,0,2], **p)\n",
    "neighbourhood = pd.Series([str(x) for x in polyo.PhenotypeNeighbourhood([0,0,0,1,0,0,0,2], **p)], dtype=\"category\")"
   ]
  },
  {
   "cell_type": "code",
   "execution_count": null,
   "metadata": {},
   "outputs": [],
   "source": []
  },
  {
   "cell_type": "code",
   "execution_count": null,
   "metadata": {},
   "outputs": [],
   "source": []
  }
 ],
 "metadata": {
  "kernelspec": {
   "display_name": "polyomino_integer",
   "language": "python",
   "name": "polyomino_integer"
  },
  "language_info": {
   "codemirror_mode": {
    "name": "ipython",
    "version": 3
   },
   "file_extension": ".py",
   "mimetype": "text/x-python",
   "name": "python",
   "nbconvert_exporter": "python",
   "pygments_lexer": "ipython3",
   "version": "3.6.8"
  }
 },
 "nbformat": 4,
 "nbformat_minor": 2
}
