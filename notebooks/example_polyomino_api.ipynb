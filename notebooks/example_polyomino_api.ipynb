{
 "cells": [
  {
   "cell_type": "code",
   "execution_count": null,
   "metadata": {},
   "outputs": [],
   "source": [
    "import sys, os\n",
    "import pandas as pd\n",
    "import numpy as np\n",
    "os.nice(15)"
   ]
  },
  {
   "cell_type": "code",
   "execution_count": null,
   "metadata": {},
   "outputs": [],
   "source": [
    "import integer_polyomino.assembly as ipa\n",
    "import integer_polyomino.gpmap as gp\n",
    "sys.path.append(os.path.join(os.getcwd(), \"..\", \"src\", \"integer_polyomino\", \"scripts\"))\n",
    "import graph_topo"
   ]
  },
  {
   "cell_type": "code",
   "execution_count": null,
   "metadata": {},
   "outputs": [],
   "source": [
    "%matplotlib inline"
   ]
  },
  {
   "cell_type": "code",
   "execution_count": null,
   "metadata": {},
   "outputs": [],
   "source": [
    "data_dir = os.path.join(os.getcwd(), \"..\", \"data\", \"V\" + ipa.__version__)\n",
    "if not os.path.exists(data_dir):\n",
    "    os.makedirs(data_dir)"
   ]
  },
  {
   "cell_type": "code",
   "execution_count": null,
   "metadata": {},
   "outputs": [],
   "source": [
    "parameters = dict()\n",
    "\n",
    "parameters[\"threshold\"] = 0.10\n",
    "parameters[\"phenotype_builds\"] = 120\n",
    "parameters[\"fixed_table\"] = False\n",
    "parameters[\"determinism\"] = 1\n",
    "parameters[\"table_file\"] = os.path.join(data_dir, \"PhenotypeTable_D{determinism}.txt\")"
   ]
  },
  {
   "cell_type": "code",
   "execution_count": null,
   "metadata": {},
   "outputs": [],
   "source": [
    "ipa.AssemblePlasticGenotype([0,0,1,2,0,0,0,2], **parameters)"
   ]
  },
  {
   "cell_type": "code",
   "execution_count": null,
   "metadata": {},
   "outputs": [],
   "source": [
    "ipa.AssemblePlasticGenotypeFrequency([0,0,1,2,0,0,0,2], **parameters);"
   ]
  },
  {
   "cell_type": "code",
   "execution_count": null,
   "metadata": {},
   "outputs": [],
   "source": [
    "ipa.AssemblePlasticGenotypeFrequency([0,0,0, 1,0,0,2,2], **parameters);"
   ]
  },
  {
   "cell_type": "code",
   "execution_count": null,
   "metadata": {},
   "outputs": [],
   "source": [
    "p = dict()\n",
    "\n",
    "p[\"n_genes\"] = 2\n",
    "p[\"low_colour\"] = 0\n",
    "p[\"high_colour\"] = 6\n",
    "p[\"threshold\"] = 25\n",
    "p[\"phenotype_builds\"] = p[\"n_genes\"] * 50\n",
    "p[\"fixed_table\"] = False\n",
    "p[\"determinism\"] = 1\n",
    "p[\"genome_file\"] = os.path.join(data_dir, \"Genomes_N{n_genes}_C{high_colour}_T{threshold}_B{phenotype_builds}.txt\".format(**p))\n",
    "p[\"table_file\"] = os.path.join(data_dir, \"table_N{n_genes}_C{high_colour}_T{threshold}_B{phenotype_builds}.txt\".format(**p))\n",
    "p[\"gpmap_file\"] = os.path.join(data_dir, \"gpmap_N{n_genes}_C{high_colour}_T{threshold}_B{phenotype_builds}.txt\".format(**p))\n",
    "p[\"threshold\"] /= 100"
   ]
  },
  {
   "cell_type": "code",
   "execution_count": null,
   "metadata": {},
   "outputs": [],
   "source": [
    "minimal_genomes = gp.MinimalGenomes(**p);"
   ]
  },
  {
   "cell_type": "code",
   "execution_count": null,
   "metadata": {},
   "outputs": [],
   "source": [
    "gpmap = gp.MinimalMap(**p);"
   ]
  },
  {
   "cell_type": "code",
   "execution_count": null,
   "metadata": {},
   "outputs": [],
   "source": [
    "gp.GenotypeNeighbourhood([0,0,1,2], low_colour=-1, high_colour=2);"
   ]
  },
  {
   "cell_type": "code",
   "execution_count": null,
   "metadata": {},
   "outputs": [],
   "source": [
    "uniques = [];\n",
    "for pIDs, genomes in polyo.MinimalMap(**p).items():\n",
    "    uniques.extend(graph_topo.TrimTopo(genomes))"
   ]
  },
  {
   "cell_type": "code",
   "execution_count": null,
   "metadata": {},
   "outputs": [],
   "source": [
    "p[\"n_genes\"] = 2\n",
    "p[\"gen_colour\"] = 6\n",
    "p[\"high_colour\"] = 8\n",
    "p[\"n_jiggle\"] = 100\n",
    "p[\"dup_aware\"] = False\n",
    "p.pop(\"genome_file\", None)\n",
    "p[\"genomes\"] = uniques\n",
    "p[\"genome_metric_file\"] = os.path.join(data_dir, \"GenomeMetrics_N{n_genes}_C{gen_colour}_T{threshold}_B{phenotype_builds}_Cx{high_colour}_J{n_jiggle}.txt\".format(**p))\n",
    "p[\"set_metric_file\"] = os.path.join(data_dir, \"SetMetrics_N{n_genes}_C{gen_colour}_T{threshold}_B{phenotype_builds}_Cx{high_colour}_J{n_jiggle}.txt\".format(**p))"
   ]
  },
  {
   "cell_type": "code",
   "execution_count": null,
   "metadata": {},
   "outputs": [],
   "source": [
    "gp.MetricSampling(**p)"
   ]
  },
  {
   "cell_type": "code",
   "execution_count": null,
   "metadata": {},
   "outputs": [],
   "source": [
    "metric_struct = polyo.MetricNeighbourhood([0,0,0,1,0,0,0,2], **p)\n",
    "neighbourhood = pd.Series([str(x) for x in polyo.PhenotypeNeighbourhood([0,0,0,1,0,0,0,2], **p)], dtype=\"category\")"
   ]
  }
 ],
 "metadata": {
  "@webio": {
   "lastCommId": "04CA5F2DD47B47979C5F512BA6CD90B1",
   "lastKernelId": "d37ff726-e0c4-4e84-ad1f-9ca68fa66634"
  },
  "kernelspec": {
   "display_name": "Integer Polyo",
   "language": "python",
   "name": "integer_polyo"
  },
  "language_info": {
   "codemirror_mode": {
    "name": "ipython",
    "version": 3
   },
   "file_extension": ".py",
   "mimetype": "text/x-python",
   "name": "python",
   "nbconvert_exporter": "python",
   "pygments_lexer": "ipython3",
   "version": "3.6.5"
  }
 },
 "nbformat": 4,
 "nbformat_minor": 2
}
