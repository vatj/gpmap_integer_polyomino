{
 "cells": [
  {
   "cell_type": "code",
   "execution_count": 1,
   "metadata": {},
   "outputs": [
    {
     "data": {
      "text/plain": [
       "15"
      ]
     },
     "execution_count": 1,
     "metadata": {},
     "output_type": "execute_result"
    }
   ],
   "source": [
    "import sys, os\n",
    "import pandas as pd\n",
    "import numpy as np\n",
    "os.nice(15)"
   ]
  },
  {
   "cell_type": "code",
   "execution_count": 2,
   "metadata": {},
   "outputs": [],
   "source": [
    "import integer_polyomino.assembly as ipa\n",
    "import integer_polyomino.gpmap as gp\n",
    "sys.path.append(os.path.join(os.getcwd(), \"..\", \"src\", \"integer_polyomino\", \"scripts\"))\n",
    "import graph_topo"
   ]
  },
  {
   "cell_type": "code",
   "execution_count": 3,
   "metadata": {},
   "outputs": [],
   "source": [
    "%matplotlib inline"
   ]
  },
  {
   "cell_type": "code",
   "execution_count": 4,
   "metadata": {},
   "outputs": [],
   "source": [
    "data_dir = os.path.join(os.getcwd(), \"..\", \"data\", \"V\" + ipa.__version__)\n",
    "if not os.path.exists(data_dir):\n",
    "    os.makedirs(data_dir)"
   ]
  },
  {
   "cell_type": "code",
   "execution_count": 5,
   "metadata": {},
   "outputs": [],
   "source": [
    "parameters = dict()\n",
    "\n",
    "parameters[\"threshold\"] = 0.10\n",
    "parameters[\"phenotype_builds\"] = 100\n",
    "parameters[\"fixed_table\"] = False\n",
    "parameters[\"determinism\"] = 1\n",
    "parameters[\"table_file\"] = os.path.join(data_dir, \"PhenotypeTable_D{determinism}.txt\".format(**parameters))"
   ]
  },
  {
   "cell_type": "code",
   "execution_count": 6,
   "metadata": {},
   "outputs": [
    {
     "name": "stdout",
     "output_type": "stream",
     "text": [
      "Loading table from :  /home/phd/Projects/Github/integer_polyomino/notebooks/../data/V0.1/PhenotypeTable_D1.txt\n"
     ]
    },
    {
     "data": {
      "text/plain": [
       "[(4, 1), (16, 1)]"
      ]
     },
     "execution_count": 6,
     "metadata": {},
     "output_type": "execute_result"
    }
   ],
   "source": [
    "ipa.AssemblePlasticGenotype([0,0,1,2,0,2,3,4], **parameters)"
   ]
  },
  {
   "cell_type": "code",
   "execution_count": 7,
   "metadata": {},
   "outputs": [
    {
     "name": "stdout",
     "output_type": "stream",
     "text": [
      "Loading table from :  /home/phd/Projects/Github/integer_polyomino/notebooks/../data/V0.1/PhenotypeTable_D1.txt\n"
     ]
    },
    {
     "data": {
      "text/plain": [
       "{(4, 1): 11, (16, 1): 89}"
      ]
     },
     "execution_count": 7,
     "metadata": {},
     "output_type": "execute_result"
    }
   ],
   "source": [
    "ipa.AssemblePlasticGenotypeFrequency([0,0,1,2,0,2,3,4], **parameters)"
   ]
  },
  {
   "cell_type": "code",
   "execution_count": 8,
   "metadata": {},
   "outputs": [
    {
     "name": "stdout",
     "output_type": "stream",
     "text": [
      "Loading table from :  /home/phd/Projects/Github/integer_polyomino/notebooks/../data/V0.1/PhenotypeTable_D1.txt\n"
     ]
    },
    {
     "data": {
      "text/plain": [
       "[[(3, 0)]]"
      ]
     },
     "execution_count": 8,
     "metadata": {},
     "output_type": "execute_result"
    }
   ],
   "source": [
    "ipa.AssemblePlasticGenotypes([[0,0,0,1,0,0,2,2]], **parameters)"
   ]
  },
  {
   "cell_type": "code",
   "execution_count": 9,
   "metadata": {},
   "outputs": [],
   "source": [
    "p = dict()\n",
    "\n",
    "p[\"n_genes\"] = 2\n",
    "p[\"low_colour\"] = 0\n",
    "p[\"high_colour\"] = 6\n",
    "p[\"threshold\"] = 25\n",
    "p[\"phenotype_builds\"] = p[\"n_genes\"] * 50\n",
    "p[\"fixed_table\"] = False\n",
    "p[\"determinism\"] = 1\n",
    "p[\"genome_file\"] = os.path.join(data_dir, \"Genomes_N{n_genes}_C{high_colour}_T{threshold}_B{phenotype_builds}.txt\".format(**p))\n",
    "p[\"table_file\"] = os.path.join(data_dir, \"table_N{n_genes}_C{high_colour}_T{threshold}_B{phenotype_builds}.txt\".format(**p))\n",
    "p[\"gpmap_file\"] = os.path.join(data_dir, \"gpmap_N{n_genes}_C{high_colour}_T{threshold}_B{phenotype_builds}.txt\".format(**p))\n",
    "p[\"threshold\"] /= 100"
   ]
  },
  {
   "cell_type": "code",
   "execution_count": 10,
   "metadata": {},
   "outputs": [
    {
     "name": "stdout",
     "output_type": "stream",
     "text": [
      "Generating all minimal samples\n",
      "Threshold is : 25.0 out of 100 builds\n",
      "Final Values : Found 15 out of 62 generated\n",
      "Printing 15 genomes to file : /home/phd/Projects/Github/integer_polyomino/notebooks/../data/V0.1/Genomes_N2_C6_T25_B100.txt\n"
     ]
    }
   ],
   "source": [
    "minimal_genomes = gp.MinimalGenomes(**p);"
   ]
  },
  {
   "cell_type": "code",
   "execution_count": 11,
   "metadata": {},
   "outputs": [
    {
     "name": "stdout",
     "output_type": "stream",
     "text": [
      "Loading genome from file : /home/phd/Projects/Github/integer_polyomino/notebooks/../data/V0.1/Genomes_N2_C6_T25_B100.txt\n",
      "Mapping 15 genomes, building 100 th times\n",
      "Currently preprocessing genome : 0 out of 15\n",
      "The GP-Map has been built!\n",
      "Printing preprocessed genomes to file : /home/phd/Projects/Github/integer_polyomino/notebooks/../data/V0.1/gpmap_N2_C6_T25_B100.txt\n"
     ]
    }
   ],
   "source": [
    "gpmap = gp.MinimalMap(**p);"
   ]
  },
  {
   "cell_type": "code",
   "execution_count": 12,
   "metadata": {},
   "outputs": [],
   "source": [
    "gp.GenotypeNeighbourhood([0,0,1,2], low_colour=-1, high_colour=2);"
   ]
  },
  {
   "cell_type": "code",
   "execution_count": 13,
   "metadata": {},
   "outputs": [
    {
     "name": "stdout",
     "output_type": "stream",
     "text": [
      "Loading genome from file : /home/phd/Projects/Github/integer_polyomino/notebooks/../data/V0.1/Genomes_N2_C6_T25_B100.txt\n",
      "Mapping 15 genomes, building 100 th times\n",
      "Currently preprocessing genome : 0 out of 15\n",
      "The GP-Map has been built!\n",
      "Printing preprocessed genomes to file : /home/phd/Projects/Github/integer_polyomino/notebooks/../data/V0.1/gpmap_N2_C6_T25_B100.txt\n"
     ]
    }
   ],
   "source": [
    "uniques = [];\n",
    "for pIDs, genomes in gp.MinimalMap(**p).items():\n",
    "    uniques.extend(graph_topo.TrimTopo(genomes))"
   ]
  },
  {
   "cell_type": "code",
   "execution_count": 14,
   "metadata": {},
   "outputs": [],
   "source": [
    "p[\"n_genes\"] = 2\n",
    "p[\"gen_colour\"] = 6\n",
    "p[\"high_colour\"] = 8\n",
    "p[\"n_jiggle\"] = 100\n",
    "p[\"dup_aware\"] = False\n",
    "p.pop(\"genome_file\", None)\n",
    "p[\"genomes\"] = uniques\n",
    "p[\"genome_metric_file\"] = os.path.join(data_dir, \"GenomeMetrics_N{n_genes}_C{gen_colour}_T{threshold}_B{phenotype_builds}_Cx{high_colour}_J{n_jiggle}.txt\".format(**p))\n",
    "p[\"set_metric_file\"] = os.path.join(data_dir, \"SetMetrics_N{n_genes}_C{gen_colour}_T{threshold}_B{phenotype_builds}_Cx{high_colour}_J{n_jiggle}.txt\".format(**p))"
   ]
  },
  {
   "cell_type": "code",
   "execution_count": 15,
   "metadata": {},
   "outputs": [
    {
     "name": "stdout",
     "output_type": "stream",
     "text": [
      "Mapping 13 genomes, building 100 th times\n",
      "Currently preprocessing genome : 0 out of 13\n",
      "The GP-Map has been built!\n",
      "There are 13 genomes to jiggle a 100 times!\n",
      "Currently processing 1 genomes for { ( 0 , 0 ), ( 6 , 0 ), }. Only  12  left!\n",
      "Currently processing 1 genomes for { ( 2 , 0 ), }. Only  11  left!\n",
      "Currently processing 1 genomes for { ( 3 , 0 ), }. Only  10  left!\n",
      "Currently processing 1 genomes for { ( 3 , 1 ), }. Only  9  left!\n",
      "Currently processing 4 genomes for { ( 4 , 0 ), }. Only  5  left!\n",
      "Currently processing 1 genomes for { ( 4 , 1 ), }. Only  4  left!\n",
      "Currently processing 1 genomes for { ( 5 , 0 ), }. Only  3  left!\n",
      "Currently processing 1 genomes for { ( 8 , 0 ), }. Only  2  left!\n",
      "Currently processing 1 genomes for { ( 8 , 1 ), }. Only  1  left!\n",
      "Currently processing 1 genomes for { ( 12 , 0 ), }. Only  0  left!\n",
      "Metric Sampling has ended!\n"
     ]
    }
   ],
   "source": [
    "gp.MetricSampling(**p)"
   ]
  },
  {
   "cell_type": "code",
   "execution_count": 16,
   "metadata": {},
   "outputs": [
    {
     "name": "stdout",
     "output_type": "stream",
     "text": [
      "Loading table from :  /home/phd/Projects/Github/integer_polyomino/notebooks/../data/V0.1/table_N2_C6_T25_B100.txt\n",
      "Loading table from :  /home/phd/Projects/Github/integer_polyomino/notebooks/../data/V0.1/table_N2_C6_T25_B100.txt\n"
     ]
    }
   ],
   "source": [
    "metric_struct = gp.MetricNeighbourhood([0,0,0,1,0,0,0,2], **p)\n",
    "neighbourhood = pd.Series([str(x) for x in gp.PhenotypeNeighbourhood([0,0,0,1,0,0,0,2], **p)], dtype=\"category\")"
   ]
  },
  {
   "cell_type": "code",
   "execution_count": 17,
   "metadata": {},
   "outputs": [
    {
     "data": {
      "text/plain": [
       "[(2, 0)]      36\n",
       "[(1, 0)]      16\n",
       "[(4, 0)]       4\n",
       "[(3, 0)]       4\n",
       "[(3, 1)]       2\n",
       "[(255, 0)]     2\n",
       "dtype: int64"
      ]
     },
     "execution_count": 17,
     "metadata": {},
     "output_type": "execute_result"
    }
   ],
   "source": [
    "neighbourhood.value_counts()"
   ]
  },
  {
   "cell_type": "code",
   "execution_count": 18,
   "metadata": {},
   "outputs": [
    {
     "name": "stdout",
     "output_type": "stream",
     "text": [
      "Loading table from :  /home/phd/Projects/Github/integer_polyomino/notebooks/../data/V0.1/PhenotypeTable_D1.txt\n"
     ]
    },
    {
     "data": {
      "text/plain": [
       "{(4, 1): 35, (6, 5): 65}"
      ]
     },
     "execution_count": 18,
     "metadata": {},
     "output_type": "execute_result"
    }
   ],
   "source": [
    "ipa.AssemblePlasticGenotypeFrequency([-1,1,0,0,0,0,2,1], **parameters)"
   ]
  },
  {
   "cell_type": "code",
   "execution_count": null,
   "metadata": {},
   "outputs": [],
   "source": []
  }
 ],
 "metadata": {
  "@webio": {
   "lastCommId": "04CA5F2DD47B47979C5F512BA6CD90B1",
   "lastKernelId": "d37ff726-e0c4-4e84-ad1f-9ca68fa66634"
  },
  "kernelspec": {
   "display_name": "integer_polyomino",
   "language": "python",
   "name": "integer_polyomino"
  },
  "language_info": {
   "codemirror_mode": {
    "name": "ipython",
    "version": 3
   },
   "file_extension": ".py",
   "mimetype": "text/x-python",
   "name": "python",
   "nbconvert_exporter": "python",
   "pygments_lexer": "ipython3",
   "version": "3.6.8"
  }
 },
 "nbformat": 4,
 "nbformat_minor": 2
}
