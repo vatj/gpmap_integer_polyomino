{
 "cells": [
  {
   "cell_type": "code",
   "execution_count": null,
   "metadata": {
    "ExecuteTime": {
     "end_time": "2019-02-08T19:56:11.349153Z",
     "start_time": "2019-02-08T19:56:11.328745Z"
    }
   },
   "outputs": [],
   "source": [
    "import sys, os\n",
    "os.nice(15)"
   ]
  },
  {
   "cell_type": "code",
   "execution_count": null,
   "metadata": {
    "ExecuteTime": {
     "end_time": "2019-02-08T19:56:12.061539Z",
     "start_time": "2019-02-08T19:56:11.350799Z"
    }
   },
   "outputs": [],
   "source": [
    "import pandas as pd\n",
    "import numpy as np\n",
    "import glob"
   ]
  },
  {
   "cell_type": "code",
   "execution_count": null,
   "metadata": {
    "ExecuteTime": {
     "end_time": "2019-02-08T19:56:12.549727Z",
     "start_time": "2019-02-08T19:56:12.063434Z"
    }
   },
   "outputs": [],
   "source": [
    "import integer_polyomino.assembly as ipa\n",
    "sys.path.append(os.path.join(os.getcwd(), \"..\", \"src\", \"integer_polyomino\", \"scripts\"))\n",
    "import hdf"
   ]
  },
  {
   "cell_type": "code",
   "execution_count": null,
   "metadata": {
    "ExecuteTime": {
     "end_time": "2019-02-08T19:56:12.566789Z",
     "start_time": "2019-02-08T19:56:12.550982Z"
    }
   },
   "outputs": [],
   "source": [
    "data_dir = os.path.join(os.getcwd(), \"..\", \"data\", \"V\" + ipa.__version__)\n",
    "if not os.path.exists(data_dir):\n",
    "    raise ValueError(\"Specify an existing directory\")"
   ]
  },
  {
   "cell_type": "code",
   "execution_count": null,
   "metadata": {
    "ExecuteTime": {
     "end_time": "2019-02-08T19:56:12.777541Z",
     "start_time": "2019-02-08T19:56:12.570771Z"
    }
   },
   "outputs": [],
   "source": [
    "# file_name = 'GenomeMetrics_N3_C6_T25_B150_Cx8_J10_D1_S0.txt'\n",
    "current_files = glob.glob(os.path.join(data_dir,'*.txt'))\n",
    "file_names = [file.rsplit('/')[-1] for file in current_files]\n",
    "genome_files = [file_name for file_name in file_names if (\"GenomeMetrics_\" in file_name)]\n",
    "duplicate_files = [file_name for file_name in file_names if (\"GenomeMetricsDuplicate\" in file_name)]\n",
    "file_hdf = 'Processed_GenomeMetrics.h5'"
   ]
  },
  {
   "cell_type": "code",
   "execution_count": null,
   "metadata": {
    "ExecuteTime": {
     "end_time": "2019-02-08T19:56:12.927227Z",
     "start_time": "2019-02-08T19:56:12.778823Z"
    }
   },
   "outputs": [],
   "source": [
    "pd.set_option('io.hdf.default_format', 'table')"
   ]
  },
  {
   "cell_type": "code",
   "execution_count": null,
   "metadata": {
    "ExecuteTime": {
     "end_time": "2019-02-08T19:56:20.322908Z",
     "start_time": "2019-02-08T19:56:13.059455Z"
    }
   },
   "outputs": [],
   "source": [
    "with pd.HDFStore(os.path.join(data_dir, file_hdf)) as store:\n",
    "    hdf.write_to_hdf(data_dir, genome_files, store, 'genome', False)"
   ]
  },
  {
   "cell_type": "code",
   "execution_count": null,
   "metadata": {
    "ExecuteTime": {
     "end_time": "2019-02-08T19:56:20.325429Z",
     "start_time": "2019-02-08T19:56:11.353Z"
    }
   },
   "outputs": [],
   "source": [
    "with pd.HDFStore(os.path.join(data_dir, file_hdf)) as store:\n",
    "    hdf.write_to_hdf(data_dir, duplicate_files, store, 'genome', True)"
   ]
  },
  {
   "cell_type": "code",
   "execution_count": null,
   "metadata": {
    "ExecuteTime": {
     "end_time": "2018-11-16T14:05:13.441994Z",
     "start_time": "2018-11-16T14:05:12.864970Z"
    }
   },
   "outputs": [],
   "source": []
  },
  {
   "cell_type": "code",
   "execution_count": null,
   "metadata": {},
   "outputs": [],
   "source": []
  }
 ],
 "metadata": {
  "@webio": {
   "lastCommId": "16A1273E0590464E8400D82B546D2BC5",
   "lastKernelId": "9010412d-f9b9-4799-93f6-4473a739f4df"
  },
  "kernelspec": {
   "display_name": "polyomino_integer",
   "language": "python",
   "name": "polyomino_integer"
  },
  "language_info": {
   "codemirror_mode": {
    "name": "ipython",
    "version": 3
   },
   "file_extension": ".py",
   "mimetype": "text/x-python",
   "name": "python",
   "nbconvert_exporter": "python",
   "pygments_lexer": "ipython3",
   "version": "3.6.8"
  }
 },
 "nbformat": 4,
 "nbformat_minor": 2
}
