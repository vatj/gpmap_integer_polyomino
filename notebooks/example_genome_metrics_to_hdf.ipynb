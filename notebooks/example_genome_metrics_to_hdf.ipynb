{
 "cells": [
  {
   "cell_type": "code",
   "execution_count": null,
   "metadata": {
    "ExecuteTime": {
     "end_time": "2018-11-16T14:05:08.948488Z",
     "start_time": "2018-11-16T14:05:08.940770Z"
    }
   },
   "outputs": [],
   "source": [
    "import os, sys\n",
    "sys.path.append(\"/home/phd/Projects/Github/polyomino_integer/module\")\n",
    "sys.path.append(\"/home/phd/Projects/Github/polyomino_integer/scripts\")\n",
    "os.nice(15)"
   ]
  },
  {
   "cell_type": "code",
   "execution_count": null,
   "metadata": {
    "ExecuteTime": {
     "end_time": "2018-11-16T14:05:09.730975Z",
     "start_time": "2018-11-16T14:05:08.951174Z"
    }
   },
   "outputs": [],
   "source": [
    "import pandas as pd\n",
    "import numpy as np\n",
    "import glob"
   ]
  },
  {
   "cell_type": "code",
   "execution_count": null,
   "metadata": {},
   "outputs": [],
   "source": [
    "import hdf"
   ]
  },
  {
   "cell_type": "code",
   "execution_count": null,
   "metadata": {
    "ExecuteTime": {
     "end_time": "2018-11-16T14:05:09.736433Z",
     "start_time": "2018-11-16T14:05:09.732335Z"
    }
   },
   "outputs": [],
   "source": [
    "file_path = \"/home/phd/Projects/Github/polyomino_integer/data/V1/\"\n",
    "file_name = 'GenomeMetrics_N3_C6_T25_B150_Cx8_J10_D1_S0.txt'\n",
    "current_files = glob.glob(file_path + '*.txt')\n",
    "file_names = [file.rsplit('/')[-1] for file in current_files]\n",
    "file_hdf = 'Processed_GenomeMetrics.h5'"
   ]
  },
  {
   "cell_type": "code",
   "execution_count": null,
   "metadata": {
    "ExecuteTime": {
     "end_time": "2018-11-16T14:05:10.361355Z",
     "start_time": "2018-11-16T14:05:10.031116Z"
    }
   },
   "outputs": [],
   "source": [
    "pd.set_option('io.hdf.default_format', 'table')"
   ]
  },
  {
   "cell_type": "code",
   "execution_count": null,
   "metadata": {
    "ExecuteTime": {
     "end_time": "2018-11-16T14:05:10.619361Z",
     "start_time": "2018-11-16T14:05:10.364513Z"
    }
   },
   "outputs": [],
   "source": [
    "genome_files = [file_name for file_name in file_names if (\"GenomeMetrics_\" in file_name)]\n",
    "duplicate_files = [file_name for file_name in file_names if (\"GenomeMetricsDuplicate\" in file_name)]"
   ]
  },
  {
   "cell_type": "code",
   "execution_count": null,
   "metadata": {
    "ExecuteTime": {
     "end_time": "2018-11-16T14:05:11.825050Z",
     "start_time": "2018-11-16T14:05:11.247337Z"
    }
   },
   "outputs": [],
   "source": [
    "with pd.HDFStore(file_path + file_hdf) as store:\n",
    "    hdf.write_to_hdf(file_path, genome_files, store, 'genome', False)"
   ]
  },
  {
   "cell_type": "code",
   "execution_count": null,
   "metadata": {
    "ExecuteTime": {
     "end_time": "2018-11-16T14:05:11.872676Z",
     "start_time": "2018-11-16T14:05:11.826630Z"
    }
   },
   "outputs": [],
   "source": [
    "with pd.HDFStore(file_path + file_hdf) as store:\n",
    "    hdf.write_to_hdf(file_path, duplicate_files, store, 'genome', False)"
   ]
  },
  {
   "cell_type": "code",
   "execution_count": null,
   "metadata": {
    "ExecuteTime": {
     "end_time": "2018-11-16T14:05:13.441994Z",
     "start_time": "2018-11-16T14:05:12.864970Z"
    }
   },
   "outputs": [],
   "source": []
  },
  {
   "cell_type": "code",
   "execution_count": 3,
   "metadata": {
    "ExecuteTime": {
     "end_time": "2018-11-15T14:40:25.268308Z",
     "start_time": "2018-11-15T14:40:25.260171Z"
    }
   },
   "outputs": [],
   "source": [
    "import integer_polyomino"
   ]
  },
  {
   "cell_type": "code",
   "execution_count": null,
   "metadata": {},
   "outputs": [],
   "source": []
  }
 ],
 "metadata": {
  "kernelspec": {
   "display_name": "Python 3",
   "language": "python",
   "name": "python3"
  },
  "language_info": {
   "codemirror_mode": {
    "name": "ipython",
    "version": 3
   },
   "file_extension": ".py",
   "mimetype": "text/x-python",
   "name": "python",
   "nbconvert_exporter": "python",
   "pygments_lexer": "ipython3",
   "version": "3.6.8"
  }
 },
 "nbformat": 4,
 "nbformat_minor": 2
}
