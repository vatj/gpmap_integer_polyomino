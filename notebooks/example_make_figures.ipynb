{
 "cells": [
  {
   "cell_type": "markdown",
   "metadata": {},
   "source": [
    "# Not functional"
   ]
  },
  {
   "cell_type": "code",
   "execution_count": null,
   "metadata": {},
   "outputs": [],
   "source": [
    "import sys, os\n",
    "os.nice(15)"
   ]
  },
  {
   "cell_type": "code",
   "execution_count": null,
   "metadata": {},
   "outputs": [],
   "source": [
    "import integer_polyomino.assembly as ipa\n",
    "import integer_polyomino.gpmap as gp\n",
    "from integer_polyomino.scripts import graph_topo\n",
    "from integer_polyomino.scripts import plotly_utilities as pu"
   ]
  },
  {
   "cell_type": "code",
   "execution_count": null,
   "metadata": {},
   "outputs": [],
   "source": [
    "import plotly.graph_objs as go\n",
    "from plotly.offline import init_notebook_mode, iplot\n",
    "import plotly.io as pio\n",
    "pio.orca.config.executable = '/u/fs1/vatj2/.local/bin//orca'\n",
    "pio.orca.config.save()\n",
    "\n",
    "import pandas as pd\n",
    "import numpy as np\n",
    "from plotly.colors import DEFAULT_PLOTLY_COLORS\n",
    "import cufflinks as cf\n",
    "import itertools"
   ]
  },
  {
   "cell_type": "code",
   "execution_count": null,
   "metadata": {},
   "outputs": [],
   "source": [
    "init_notebook_mode(connected=True)\n",
    "cf.set_config_file(offline=True)\n",
    "\n",
    "figure_dir = os.path.join(os.getcwd(), '..', 'figures')\n",
    "if not os.path.exists(figure_dir):\n",
    "    os.mkdir(figure_dir)\n",
    "    \n",
    "data_dir = os.path.join(os.getcwd(), \"..\" , \"data\", \"V\" + ipa.__version__)\n",
    "if not os.path.exists(data_dir):\n",
    "    os.mkdir(data_dir)"
   ]
  },
  {
   "cell_type": "code",
   "execution_count": null,
   "metadata": {},
   "outputs": [],
   "source": [
    "p = dict()\n",
    "\n",
    "p[\"n_genes\"] = 2\n",
    "p[\"low_colour\"] = 0\n",
    "p[\"gen_colour\"] = 6\n",
    "p[\"high_colour\"] = 8\n",
    "p[\"threshold\"] = 25\n",
    "p[\"phenotype_builds\"] = p[\"n_genes\"] * 50\n",
    "p[\"fixed_table\"] = False\n",
    "p[\"determinism\"] = 1\n",
    "p[\"n_jiggle\"] = 100\n",
    "p[\"table_file\"] = os.path.join(data_dir, \"PhenotypeTable_D{determinism}.txt\".format(**p))\n",
    "genome_metric_file = \"GenomeMetrics_N{n_genes}_C{gen_colour}_T{threshold}_B{phenotype_builds}_Cx{high_colour}_J{n_jiggle}_D{determinism}_S{low_colour}\".format(**p)\n",
    "set_metric_file = os.path.join(data_dir, \"SetMetrics_N{n_genes}_C{gen_colour}_T{threshold}_B{phenotype_builds}_Cx{high_colour}_J{n_jiggle}_D{determinism}_S{low_colour}.txt\".format(**p))\n",
    "file_hdf = os.path.join(data_dir, 'Processed_GenomeMetrics.h5')\n",
    "gpmap_dir = os.path.join(figure_dir, 'gpmap_N{n_genes}_C{gen_colour}_T{threshold}_B{phenotype_builds}_Cx{high_colour}_J{n_jiggle}_D{determinism}_S{low_colour}'.format(**p))"
   ]
  },
  {
   "cell_type": "code",
   "execution_count": null,
   "metadata": {},
   "outputs": [],
   "source": [
    "p[\"n_genes\"] += 1\n",
    "p[\"phenotype_builds\"] = p[\"n_genes\"] * 50\n",
    "max_size = 10\n",
    "duplicate_set_metric_file = os.path.join(data_dir, \"SetMetricsDuplicate_N{n_genes}_C{gen_colour}_T{threshold}_B{phenotype_builds}_Cx{high_colour}_J{n_jiggle}_D{determinism}_S{low_colour}.txt\".format(**p))\n",
    "duplicate_genome_metric_file = \"GenomeMetricsDuplicate_N{n_genes}_C{gen_colour}_T{threshold}_B{phenotype_builds}_Cx{high_colour}_J{n_jiggle}_D{determinism}_S{low_colour}\".format(**p)\n",
    "p[\"n_genes\"] -= 1\n",
    "p[\"phenotype_builds\"] = p[\"n_genes\"] * 50"
   ]
  },
  {
   "cell_type": "code",
   "execution_count": null,
   "metadata": {},
   "outputs": [],
   "source": [
    "dfs = pd.read_csv(set_metric_file, sep=\" \")\n",
    "dfs_d = pd.read_csv(duplicate_set_metric_file, sep=\" \")"
   ]
  },
  {
   "cell_type": "code",
   "execution_count": null,
   "metadata": {},
   "outputs": [],
   "source": [
    "metrics = ['srobustness', 'irobustness', 'evolvability',  'complex_diversity', 'diversity', 'robust_evolvability', 'complex_evolvability', 'rare', 'unbound']\n",
    "suffixes = ['_sim', '_dup', '_norm']"
   ]
  },
  {
   "cell_type": "code",
   "execution_count": null,
   "metadata": {},
   "outputs": [],
   "source": [
    "df = dfs.merge(dfs_d, on=(\"pIDs\"), suffixes=('_sim', '_dup'))\n",
    "for metric in metrics:\n",
    "    df[metric + '_rel'] = (df[metric + '_dup'] - df[metric + '_sim'])\n",
    "    df[metric + '_norm'] = df[metric + '_rel'] / (df[metric + '_sim'] + df[metric + '_dup'])\n",
    "\n",
    "df[\"max_size\"] = df.pIDs.apply(lambda x: max(eval(x))[0])"
   ]
  },
  {
   "cell_type": "code",
   "execution_count": null,
   "metadata": {},
   "outputs": [],
   "source": [
    "if not os.path.exists(gpmap_dir):\n",
    "    os.mkdir(gpmap_dir)"
   ]
  },
  {
   "cell_type": "code",
   "execution_count": null,
   "metadata": {},
   "outputs": [],
   "source": [
    "current_path = os.path.join(gpmap_dir, 'deterministic_vs_multi')\n",
    "if not os.path.exists(current_path):\n",
    "    os.mkdir(current_path)\n",
    "\n",
    "for metric, suffixe in itertools.product(metrics, suffixes):\n",
    "    title = 'Deterministic v.s. Multi ' + metric + suffixe + ' metric in GPmap N{n_genes}_C{gen_colour}_T{threshold}_B{phenotype_builds}_Cx{high_colour}_J{n_jiggle}_D{determinism}_S{low_colour}'.format(**p)\n",
    "    filename = 'deterministic_vs_multi_' + metric + suffixe + '_N{n_genes}_C{gen_colour}_T{threshold}_B{phenotype_builds}_Cx{high_colour}_J{n_jiggle}_D{determinism}_S{low_colour}.pdf'.format(**p)\n",
    "    pio.write_image(pu.scatter_metric_size(df, metric + suffixe, max_size=max_size, multi=True, title=title), file=os.path.join(current_path, filename))"
   ]
  },
  {
   "cell_type": "code",
   "execution_count": null,
   "metadata": {},
   "outputs": [],
   "source": [
    "current_path = os.path.join(gpmap_dir, 'simple_vs_duplicate')\n",
    "if not os.path.exists(current_path):\n",
    "    os.mkdir(current_path)\n",
    "\n",
    "for metric in metrics:\n",
    "    title = 'Simple v.s. Duplicate ' + metric + ' metric in GPmap N{n_genes}_C{gen_colour}_T{threshold}_B{phenotype_builds}_Cx{high_colour}_J{n_jiggle}_D{determinism}_S{low_colour}'.format(**p)\n",
    "    filename = 'simple_vs_duplicate_' + metric + '_N{n_genes}_C{gen_colour}_T{threshold}_B{phenotype_builds}_Cx{high_colour}_J{n_jiggle}_D{determinism}_S{low_colour}.pdf'.format(**p)\n",
    "    pio.write_image(pu.dual_metric_size(df, metrics=[metric + '_sim', metric + '_dup'], max_size=max_size, title=title, symbol=['circle', 'x']), file=os.path.join(current_path, filename))"
   ]
  },
  {
   "cell_type": "code",
   "execution_count": null,
   "metadata": {},
   "outputs": [],
   "source": [
    "distribution_dir = os.path.join(gpmap_dir, 'phenotypes_distribution')\n",
    "if not os.path.exists(distribution_dir):\n",
    "    os.mkdir(distribution_dir)"
   ]
  },
  {
   "cell_type": "code",
   "execution_count": null,
   "metadata": {},
   "outputs": [],
   "source": [
    "with pd.HDFStore(file_hdf, mode='r') as store:\n",
    "    pIDs_simple = store.select(genome_metric_file, 'columns == pIDs')\n",
    "    pIDs_dup = store.select(duplicate_genome_metric_file, 'columns == pIDs')"
   ]
  },
  {
   "cell_type": "code",
   "execution_count": null,
   "metadata": {},
   "outputs": [],
   "source": [
    "current_path = os.path.join(distribution_dir, 'simple')\n",
    "if not os.path.exists(current_path):\n",
    "    os.mkdir(current_path)\n",
    "\n",
    "for pIDs in pIDs_simple.pIDs.unique():\n",
    "    if not os.path.exists(os.path.join(current_path, pIDs)):\n",
    "        os.mkdir(os.path.join(current_path, pIDs))\n",
    "    for metric in metrics:\n",
    "        title = 'Distribution of ' + metric + ' metric for phenotype ' + pIDs + '<br> in GPmap N{n_genes}_C{gen_colour}_T{threshold}_B{phenotype_builds}_Cx{high_colour}_J{n_jiggle}_D{determinism}_S{low_colour}'.format(**p)\n",
    "        filename = 'distribution_' + metric + '_for_phenotype_' + pIDs + '_N{n_genes}_C{gen_colour}_T{threshold}_B{phenotype_builds}_Cx{high_colour}_J{n_jiggle}_D{determinism}_S{low_colour}.pdf'.format(**p)\n",
    "        layout = go.Layout(title=title)\n",
    "        pio.write_image(go.Figure(data=pu.distribution_metric_phenotype_trace(pID=pIDs, file_name=genome_metric_file, metric=metric, hdf=file_hdf), layout=layout), file=os.path.join(current_path, pIDs, filename))"
   ]
  },
  {
   "cell_type": "code",
   "execution_count": null,
   "metadata": {},
   "outputs": [],
   "source": [
    "current_path = os.path.join(distribution_dir, 'duplicate')\n",
    "if not os.path.exists(current_path):\n",
    "    os.mkdir(current_path)\n",
    "\n",
    "for pIDs in pIDs_dup.pIDs.unique():\n",
    "    if not os.path.exists(os.path.join(current_path, pIDs)):\n",
    "        os.mkdir(os.path.join(current_path, pIDs))\n",
    "    for metric in metrics:\n",
    "        title = 'Distribution of ' + metric + ' metric for phenotype ' + pIDs + '<br>in GPmap-duplicate N{n_genes}_C{gen_colour}_T{threshold}_B{phenotype_builds}_Cx{high_colour}_J{n_jiggle}_D{determinism}_S{low_colour}'.format(**p)\n",
    "        filename = 'distribution_' + metric + '_for_phenotype_' + pIDs + '_N{n_genes}_C{gen_colour}_T{threshold}_B{phenotype_builds}_Cx{high_colour}_J{n_jiggle}_D{determinism}_S{low_colour}.pdf'.format(**p)\n",
    "        layout = go.Layout(title=title)\n",
    "        pio.write_image(go.Figure(data=pu.distribution_metric_phenotype_trace(pID=pIDs, file_name=duplicate_genome_metric_file, metric=metric, hdf=file_hdf), layout=layout), file=os.path.join(current_path, pIDs, filename))"
   ]
  },
  {
   "cell_type": "code",
   "execution_count": null,
   "metadata": {},
   "outputs": [],
   "source": [
    "current_path = os.path.join(distribution_dir, 'comparison')\n",
    "if not os.path.exists(current_path):\n",
    "    os.mkdir(current_path)\n",
    "\n",
    "for pIDs in pIDs_dup.pIDs.unique():\n",
    "    if not os.path.exists(os.path.join(current_path, pIDs)):\n",
    "        os.mkdir(os.join.path(current_path, pIDs))\n",
    "    for metric in metrics:\n",
    "        title = 'Distribution of ' + metric + ' metric for phenotype ' + pIDs + '<br>in GPmap N{n_genes}_C{gen_colour}_T{threshold}_B{phenotype_builds}_Cx{high_colour}_J{n_jiggle}_D{determinism}_S{low_colour}'.format(**p)\n",
    "        filename = 'distribution_' + metric + '_for_phenotype_' + pIDs + '_N{n_genes}_C{gen_colour}_T{threshold}_B{phenotype_builds}_Cx{high_colour}_J{n_jiggle}_D{determinism}_S{low_colour}.pdf'.format(**p)\n",
    "        layout = go.Layout(title=title)\n",
    "        traces = pu.distribution_metric_phenotype_dup_trace(pID=pIDs, genome_file=genome_metric_file, duplicate_file=duplicate_genome_metric_file, metric=metric, hdf=file_hdf)\n",
    "        pio.write_image(go.Figure(data=traces, layout=layout), file=os.path.join(current_path, pIDs, filename))"
   ]
  },
  {
   "cell_type": "code",
   "execution_count": null,
   "metadata": {},
   "outputs": [],
   "source": []
  }
 ],
 "metadata": {
  "@webio": {
   "lastCommId": "FDD7DA53F0CD4EAA918217CF273A7844",
   "lastKernelId": "b8850ae8-46bf-4f0b-b32b-42ba87d4dfe8"
  },
  "kernelspec": {
   "display_name": "release_polyo",
   "language": "python",
   "name": "release_polyo"
  },
  "language_info": {
   "codemirror_mode": {
    "name": "ipython",
    "version": 3
   },
   "file_extension": ".py",
   "mimetype": "text/x-python",
   "name": "python",
   "nbconvert_exporter": "python",
   "pygments_lexer": "ipython3",
   "version": "3.6.9"
  }
 },
 "nbformat": 4,
 "nbformat_minor": 2
}
