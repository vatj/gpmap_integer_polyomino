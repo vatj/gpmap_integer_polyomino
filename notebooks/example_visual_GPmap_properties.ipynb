{
 "cells": [
  {
   "cell_type": "code",
   "execution_count": null,
   "metadata": {
    "ExecuteTime": {
     "end_time": "2019-02-08T20:42:55.900215Z",
     "start_time": "2019-02-08T20:42:55.884754Z"
    }
   },
   "outputs": [],
   "source": [
    "import sys, os\n",
    "os.nice(15)"
   ]
  },
  {
   "cell_type": "code",
   "execution_count": null,
   "metadata": {
    "ExecuteTime": {
     "end_time": "2019-02-08T20:42:58.505071Z",
     "start_time": "2019-02-08T20:42:55.901838Z"
    }
   },
   "outputs": [],
   "source": [
    "import integer_polyomino.assembly as ipa\n",
    "import integer_polyomino.gpmap as gp\n",
    "sys.path.append(os.path.join(os.getcwd(), \"..\", \"src\", \"integer_polyomino\", \"scripts\"))\n",
    "import graph_topo\n",
    "import plotly_utilities as pu"
   ]
  },
  {
   "cell_type": "code",
   "execution_count": null,
   "metadata": {
    "ExecuteTime": {
     "end_time": "2019-02-08T20:42:58.518886Z",
     "start_time": "2019-02-08T20:42:58.506568Z"
    }
   },
   "outputs": [],
   "source": [
    "import plotly.graph_objs as go\n",
    "from plotly.offline import init_notebook_mode, iplot\n",
    "import plotly.figure_factory as ff\n",
    "import cufflinks as cf\n",
    "import plotly\n",
    "import pandas as pd\n",
    "import numpy as np\n",
    "import seaborn as sns"
   ]
  },
  {
   "cell_type": "code",
   "execution_count": null,
   "metadata": {
    "ExecuteTime": {
     "end_time": "2019-02-08T20:42:58.912724Z",
     "start_time": "2019-02-08T20:42:58.520894Z"
    }
   },
   "outputs": [],
   "source": [
    "%matplotlib inline\n",
    "init_notebook_mode(connected=True)\n",
    "cf.set_config_file(offline=True)\n",
    "sns.set(style=\"dark\", context=\"talk\")"
   ]
  },
  {
   "cell_type": "code",
   "execution_count": null,
   "metadata": {
    "ExecuteTime": {
     "end_time": "2019-02-08T20:42:58.918421Z",
     "start_time": "2019-02-08T20:42:58.915073Z"
    }
   },
   "outputs": [],
   "source": [
    "data_dir = os.path.join(os.getcwd(), \"test\", \"data\")\n",
    "if not os.path.exists(data_dir):\n",
    "    raise ValueError(\"Specify valid data directory\")"
   ]
  },
  {
   "cell_type": "code",
   "execution_count": null,
   "metadata": {
    "ExecuteTime": {
     "end_time": "2019-02-08T20:44:05.796863Z",
     "start_time": "2019-02-08T20:44:05.792885Z"
    }
   },
   "outputs": [],
   "source": [
    "p = dict()\n",
    "\n",
    "p[\"n_genes\"] = 2\n",
    "p[\"low_colour\"] = 0\n",
    "p[\"gen_colour\"] = 6\n",
    "p[\"high_colour\"] = 8\n",
    "p[\"threshold\"] = 25\n",
    "p[\"phenotype_builds\"] = p[\"n_genes\"] * 50\n",
    "p[\"fixed_table\"] = False\n",
    "p[\"determinism\"] = 1\n",
    "p[\"n_jiggle\"] = 100\n",
    "p[\"table_file\"] = os.path.join(data_dir, \"PhenotypeTable_D{determinism}.txt\".format(**p))\n",
    "set_metric_file = os.path.join(data_dir, \"SetMetrics_N{n_genes}_C{gen_colour}_T{threshold}_B{phenotype_builds}_Cx{high_colour}_J{n_jiggle}_D{determinism}_S{low_colour}.txt\".format(**p))"
   ]
  },
  {
   "cell_type": "code",
   "execution_count": null,
   "metadata": {
    "ExecuteTime": {
     "end_time": "2019-02-08T20:44:06.161674Z",
     "start_time": "2019-02-08T20:44:06.159297Z"
    }
   },
   "outputs": [],
   "source": [
    "p[\"n_genes\"] += 1\n",
    "p[\"phenotype_builds\"] = p[\"n_genes\"] * 50\n",
    "duplicate_set_metric_file = os.path.join(data_dir, \"SetMetricsDuplicate_N{n_genes}_C{gen_colour}_T{threshold}_B{phenotype_builds}_Cx{high_colour}_J{n_jiggle}_D{determinism}_S{low_colour}.txt\".format(**p))"
   ]
  },
  {
   "cell_type": "code",
   "execution_count": null,
   "metadata": {
    "ExecuteTime": {
     "end_time": "2019-02-08T20:44:06.450592Z",
     "start_time": "2019-02-08T20:44:06.390035Z"
    }
   },
   "outputs": [],
   "source": [
    "dfs = pd.read_csv(set_metric_file, sep=\" \")\n",
    "dfd = pd.read_csv(duplicate_set_metric_file, sep=\" \")"
   ]
  },
  {
   "cell_type": "code",
   "execution_count": null,
   "metadata": {
    "ExecuteTime": {
     "end_time": "2019-02-08T20:44:06.836770Z",
     "start_time": "2019-02-08T20:44:06.614557Z"
    }
   },
   "outputs": [],
   "source": [
    "metrics = ['srobustness', 'irobustness', 'evolvability',  'complex_diversity', 'diversity', 'robust_evolvability', 'complex_evolvability', 'rare', 'unbound']"
   ]
  },
  {
   "cell_type": "code",
   "execution_count": null,
   "metadata": {
    "ExecuteTime": {
     "end_time": "2019-02-08T20:44:07.137641Z",
     "start_time": "2019-02-08T20:44:07.125686Z"
    }
   },
   "outputs": [],
   "source": [
    "df = dfs.merge(dfd, on=(\"pIDs\"), suffixes=('_sim', '_dup'))\n",
    "for metric in metrics:\n",
    "    df[metric + '_rel'] = (df[metric + '_dup'] - df[metric + '_sim'])\n",
    "    df[metric + '_norm'] = df[metric + '_rel'] / (df[metric + '_sim'] + df[metric + '_dup'])\n",
    "\n",
    "df[\"max_size\"] = df.pIDs.apply(lambda x: max(eval(x))[0])"
   ]
  },
  {
   "cell_type": "code",
   "execution_count": null,
   "metadata": {
    "ExecuteTime": {
     "end_time": "2019-02-08T20:44:07.582883Z",
     "start_time": "2019-02-08T20:44:07.572808Z"
    }
   },
   "outputs": [],
   "source": [
    "iplot(pu.scatter_metric_size(df, 'srobustness_sim', max_size=15, multi=True, title='srobustness_sim'))"
   ]
  },
  {
   "cell_type": "code",
   "execution_count": null,
   "metadata": {
    "ExecuteTime": {
     "end_time": "2019-02-08T20:44:07.886820Z",
     "start_time": "2019-02-08T20:44:07.873550Z"
    }
   },
   "outputs": [],
   "source": [
    "iplot(pu.dual_metric_size(df, metrics=['srobustness_sim', 'srobustness_dup'], max_size=15, title='Comparison srobustness'))"
   ]
  },
  {
   "cell_type": "code",
   "execution_count": null,
   "metadata": {
    "ExecuteTime": {
     "end_time": "2019-02-08T20:44:08.420558Z",
     "start_time": "2019-02-08T20:44:08.410703Z"
    }
   },
   "outputs": [],
   "source": [
    "iplot(pu.scatter_metrics(df, xMetric='srobustness_norm', yMetric='evolvability_norm', max_size=15, multi=True, title='Comparison srobustness'))"
   ]
  },
  {
   "cell_type": "code",
   "execution_count": null,
   "metadata": {
    "ExecuteTime": {
     "end_time": "2019-02-08T20:44:08.857413Z",
     "start_time": "2019-02-08T20:44:08.836089Z"
    }
   },
   "outputs": [],
   "source": [
    "fig = pu.all_metrics_size(df, metrics, suffixe='_sim', max_size=15, title='Effect of Gene Duplication on GP-map', colors=DEFAULT_PLOTLY_COLORS[0])\n",
    "fig2 = pu.all_metrics_size(df, metrics, suffixe='_dup', max_size=15, title='Effect of Gene Duplication on GP-map',colors=DEFAULT_PLOTLY_COLORS[1])\n",
    "for index in range(len(fig2.data)):\n",
    "    fig.add_trace(fig2.data[index])\n",
    "iplot(fig)"
   ]
  },
  {
   "cell_type": "code",
   "execution_count": null,
   "metadata": {},
   "outputs": [],
   "source": []
  },
  {
   "cell_type": "code",
   "execution_count": null,
   "metadata": {},
   "outputs": [],
   "source": []
  }
 ],
 "metadata": {
  "@webio": {
   "lastCommId": "4DB3C4A1941F4F9F83D5350B792CFF70",
   "lastKernelId": "eca4c047-aa47-4290-9d94-b98f9bc4cbda"
  },
  "kernelspec": {
   "display_name": "release_polyo",
   "language": "python",
   "name": "release_polyo"
  },
  "language_info": {
   "codemirror_mode": {
    "name": "ipython",
    "version": 3
   },
   "file_extension": ".py",
   "mimetype": "text/x-python",
   "name": "python",
   "nbconvert_exporter": "python",
   "pygments_lexer": "ipython3",
   "version": "3.6.9"
  }
 },
 "nbformat": 4,
 "nbformat_minor": 2
}
