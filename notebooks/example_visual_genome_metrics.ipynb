{
 "cells": [
  {
   "cell_type": "code",
   "execution_count": null,
   "metadata": {},
   "outputs": [],
   "source": [
    "import sys, os\n",
    "sys.path.append(\"/home/phd/Projects/Github/polyomino_integer/module\")\n",
    "sys.path.append(\"/home/phd/Projects/Github/polyomino_integer/scripts\")\n",
    "os.nice(15)"
   ]
  },
  {
   "cell_type": "code",
   "execution_count": null,
   "metadata": {},
   "outputs": [],
   "source": [
    "import polyo\n",
    "import graph_topo\n",
    "import plotly_utilities as pu"
   ]
  },
  {
   "cell_type": "code",
   "execution_count": null,
   "metadata": {},
   "outputs": [],
   "source": [
    "import plotly.graph_objs as go\n",
    "from plotly.offline import init_notebook_mode, iplot\n",
    "import plotly.figure_factory as ff\n",
    "import plotly\n",
    "import pandas as pd\n",
    "import numpy as np\n",
    "import seaborn as sns"
   ]
  },
  {
   "cell_type": "code",
   "execution_count": null,
   "metadata": {},
   "outputs": [],
   "source": [
    "%matplotlib inline\n",
    "init_notebook_mode(connected=True)\n",
    "data_dir = os.getcwd() + \"/../data/V1/\"\n",
    "sns.set(style=\"dark\", context=\"talk\")"
   ]
  },
  {
   "cell_type": "code",
   "execution_count": null,
   "metadata": {},
   "outputs": [],
   "source": [
    "p = dict()\n",
    "\n",
    "p[\"n_genes\"] = 3\n",
    "p[\"low_colour\"] = 0\n",
    "p[\"gen_colour\"] = 6\n",
    "p[\"high_colour\"] = 8\n",
    "p[\"threshold\"] = 25\n",
    "p[\"phenotype_builds\"] = p[\"n_genes\"] * 50\n",
    "p[\"fixed_table\"] = False\n",
    "p[\"determinism\"] = 1\n",
    "p[\"n_jiggle\"] = 1000\n",
    "p[\"table_file\"] = data_dir + \"PhenotypeTable_D{determinism}.txt\".format(**p)\n",
    "genome_metric_file = \"GenomeMetrics_N{n_genes}_C{gen_colour}_T{threshold}_B{phenotype_builds}_Cx{high_colour}_J{n_jiggle}_D{determinism}_S{low_colour}\".format(**p)\n",
    "set_metric_file = data_dir + \"SetMetrics_N{n_genes}_C{gen_colour}_T{threshold}_B{phenotype_builds}_Cx{high_colour}_J{n_jiggle}_D{determinism}_S{low_colour}.txt\".format(**p)\n",
    "file_hdf = 'Processed_GenomeMetrics.h5'"
   ]
  },
  {
   "cell_type": "code",
   "execution_count": null,
   "metadata": {},
   "outputs": [],
   "source": [
    "with pd.HDFStore(data_dir + file_hdf, mode='r') as store:\n",
    "    dfg = store[genome_metric_file]"
   ]
  },
  {
   "cell_type": "code",
   "execution_count": null,
   "metadata": {},
   "outputs": [],
   "source": [
    "row = 21"
   ]
  },
  {
   "cell_type": "code",
   "execution_count": null,
   "metadata": {},
   "outputs": [],
   "source": [
    "iplot(pu.pretty_genome_pie(dfg, row))"
   ]
  },
  {
   "cell_type": "code",
   "execution_count": null,
   "metadata": {},
   "outputs": [],
   "source": [
    "iplot(pu.pretty_genome_hbar(dfg, row))"
   ]
  },
  {
   "cell_type": "code",
   "execution_count": null,
   "metadata": {},
   "outputs": [],
   "source": [
    "iplot(pu.metric_subplots(dfg, [row], p, 'group'))"
   ]
  },
  {
   "cell_type": "code",
   "execution_count": null,
   "metadata": {},
   "outputs": [],
   "source": [
    "iplot(pu.distribution_metrics_phenotype(pID='{(3, 0)}', file_name = genome_metric_file, hdf=data_dir + file_hdf))"
   ]
  },
  {
   "cell_type": "code",
   "execution_count": null,
   "metadata": {},
   "outputs": [],
   "source": []
  }
 ],
 "metadata": {
  "kernelspec": {
   "display_name": "Python 3",
   "language": "python",
   "name": "python3"
  },
  "language_info": {
   "codemirror_mode": {
    "name": "ipython",
    "version": 3
   },
   "file_extension": ".py",
   "mimetype": "text/x-python",
   "name": "python",
   "nbconvert_exporter": "python",
   "pygments_lexer": "ipython3",
   "version": "3.6.8"
  }
 },
 "nbformat": 4,
 "nbformat_minor": 2
}
