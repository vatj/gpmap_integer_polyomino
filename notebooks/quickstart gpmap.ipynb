{
 "cells": [
  {
   "cell_type": "markdown",
   "metadata": {},
   "source": [
    "# Quickstart GPmap API"
   ]
  },
  {
   "cell_type": "markdown",
   "metadata": {},
   "source": [
    "## Boilerplate"
   ]
  },
  {
   "cell_type": "code",
   "execution_count": null,
   "metadata": {},
   "outputs": [],
   "source": [
    "import sys, os\n",
    "os.nice(15)\n",
    "print(os.getcwd())\n",
    "\n",
    "import integer_polyomino.gpmap as gp\n",
    "from integer_polyomino.scripts import graph_topo"
   ]
  },
  {
   "cell_type": "markdown",
   "metadata": {},
   "source": [
    "## Set up data directory"
   ]
  },
  {
   "cell_type": "code",
   "execution_count": null,
   "metadata": {},
   "outputs": [],
   "source": [
    "data_dir = os.path.join(os.getcwd(), \"test\", \"data\")\n",
    "if not os.path.exists(data_dir):\n",
    "    os.makedirs(data_dir)"
   ]
  },
  {
   "cell_type": "markdown",
   "metadata": {},
   "source": [
    "## Set up hyper parameters"
   ]
  },
  {
   "cell_type": "code",
   "execution_count": null,
   "metadata": {},
   "outputs": [],
   "source": [
    "p = dict()\n",
    "\n",
    "p[\"n_genes\"] = 2 # number of gene\n",
    "p[\"low_colour\"] = 0 # 1 neutral colour\n",
    "p[\"high_colour\"] = 6 # 3 interacting pairs\n",
    "p[\"threshold\"] = 25 # Polyomino must be built at least 10% of the time to not be considered as rare\n",
    "p[\"phenotype_builds\"] = p[\"n_genes\"] * 50 # Number of assembly process for each genotype\n",
    "p[\"fixed_table\"] = False # Add entries to the phenotype table if discover new phenotype\n",
    "p[\"determinism\"] = 1 # Polyomino shape matching level. Set to 1\n",
    "p[\"genome_file\"] = os.path.join(data_dir, \"Genomes_N{n_genes}_C{high_colour}_T{threshold}_B{phenotype_builds}.txt\".format(**p)) # Minimal Genome File\n",
    "p[\"table_file\"] = os.path.join(data_dir, \"table_N{n_genes}_C{high_colour}_T{threshold}_B{phenotype_builds}.txt\".format(**p)) # Initial Phenotype Table\n",
    "p[\"gpmap_file\"] = os.path.join(data_dir, \"gpmap_N{n_genes}_C{high_colour}_T{threshold}_B{phenotype_builds}.txt\".format(**p)) # Minimal Genotype-Phenotype map\n",
    "p[\"threshold\"] /= 100"
   ]
  },
  {
   "cell_type": "markdown",
   "metadata": {},
   "source": [
    "## GP-map Analysis"
   ]
  },
  {
   "cell_type": "markdown",
   "metadata": {},
   "source": [
    "### Generate minimal genome, check for isomorphic assembly graph and build minimal GP-map"
   ]
  },
  {
   "cell_type": "code",
   "execution_count": null,
   "metadata": {},
   "outputs": [],
   "source": [
    "minimal_genomes = gp.MinimalGenomes(**p);\n",
    "uniques = [];\n",
    "\n",
    "for pIDs, genomes in gp.MinimalMap(**p).items():\n",
    "    uniques.extend(graph_topo.TrimTopo(genomes))\n",
    "\n",
    "gp.MinimalMap(**p);"
   ]
  },
  {
   "cell_type": "markdown",
   "metadata": {},
   "source": [
    "### Add hyperparameter for metric sampling"
   ]
  },
  {
   "cell_type": "code",
   "execution_count": null,
   "metadata": {},
   "outputs": [],
   "source": [
    "p[\"gen_colour\"] = 6  # Highest colourin the generated genome set\n",
    "p[\"high_colour\"] = 8 # Highest colour for metric calculation\n",
    "p[\"n_jiggle\"] = 1000 # Number of representant per assembly graph equivalence class to sample\n",
    "p[\"dup_aware\"] = False # Jiggle duplicate and original gene similarly if True\n",
    "p[\"threshold\"] = int(p['threshold'] * 100)\n",
    "p.pop(\"genome_file\", None)\n",
    "p[\"genomes\"] = uniques # Run analysis only on the set of non isomorphic assembly graph\n",
    "p[\"genome_metric_file\"] = os.path.join(data_dir, \"GenomeMetrics_N{n_genes}_C{gen_colour}_T{threshold}_B{phenotype_builds}_Cx{high_colour}_J{n_jiggle}_D{determinism}_S{low_colour}.txt\".format(**p))\n",
    "p[\"set_metric_file\"] = os.path.join(data_dir, \"SetMetrics_N{n_genes}_C{gen_colour}_T{threshold}_B{phenotype_builds}_Cx{high_colour}_J{n_jiggle}_D{determinism}_S{low_colour}.txt\".format(**p))\n",
    "p[\"threshold\"] /= 100"
   ]
  },
  {
   "cell_type": "markdown",
   "metadata": {},
   "source": [
    "### Perform Metric Sampling"
   ]
  },
  {
   "cell_type": "code",
   "execution_count": null,
   "metadata": {},
   "outputs": [],
   "source": [
    "gp.MetricSampling(**p)"
   ]
  },
  {
   "cell_type": "code",
   "execution_count": null,
   "metadata": {},
   "outputs": [],
   "source": []
  }
 ],
 "metadata": {
  "@webio": {
   "lastCommId": "04CA5F2DD47B47979C5F512BA6CD90B1",
   "lastKernelId": "d37ff726-e0c4-4e84-ad1f-9ca68fa66634"
  },
  "kernelspec": {
   "display_name": "release_polyo",
   "language": "python",
   "name": "release_polyo"
  },
  "language_info": {
   "codemirror_mode": {
    "name": "ipython",
    "version": 3
   },
   "file_extension": ".py",
   "mimetype": "text/x-python",
   "name": "python",
   "nbconvert_exporter": "python",
   "pygments_lexer": "ipython3",
   "version": "3.6.9"
  }
 },
 "nbformat": 4,
 "nbformat_minor": 2
}
