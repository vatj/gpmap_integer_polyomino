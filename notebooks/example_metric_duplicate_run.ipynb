{
 "cells": [
  {
   "cell_type": "code",
   "execution_count": null,
   "metadata": {
    "ExecuteTime": {
     "end_time": "2019-02-08T19:00:37.052634Z",
     "start_time": "2019-02-08T19:00:37.041476Z"
    }
   },
   "outputs": [],
   "source": [
    "import sys, os\n",
    "os.nice(15)"
   ]
  },
  {
   "cell_type": "code",
   "execution_count": null,
   "metadata": {
    "ExecuteTime": {
     "end_time": "2019-02-08T19:00:37.592929Z",
     "start_time": "2019-02-08T19:00:37.054814Z"
    }
   },
   "outputs": [],
   "source": [
    "import integer_polyomino.assembly as ipa\n",
    "import integer_polyomino.gpmap as gp\n",
    "sys.path.append(os.path.join(os.getcwd(), \"..\", \"src\", \"integer_polyomino\", \"scripts\"))\n",
    "import graph_topo"
   ]
  },
  {
   "cell_type": "code",
   "execution_count": null,
   "metadata": {
    "ExecuteTime": {
     "end_time": "2019-02-08T19:00:37.597369Z",
     "start_time": "2019-02-08T19:00:37.594364Z"
    }
   },
   "outputs": [],
   "source": [
    "data_dir = os.path.join(os.getcwd(), \"..\", \"data\", \"V\" + ipa.__version__)\n",
    "if not os.path.exists(data_dir):\n",
    "    os.makedirs(data_dir)"
   ]
  },
  {
   "cell_type": "code",
   "execution_count": null,
   "metadata": {
    "ExecuteTime": {
     "end_time": "2019-02-08T19:00:37.721696Z",
     "start_time": "2019-02-08T19:00:37.599521Z"
    }
   },
   "outputs": [],
   "source": [
    "p = dict()\n",
    "\n",
    "p[\"n_genes\"] = 3\n",
    "p[\"low_colour\"] = 0\n",
    "p[\"high_colour\"] = 6\n",
    "p[\"threshold\"] = 25\n",
    "p[\"phenotype_builds\"] = p[\"n_genes\"] * 50\n",
    "p[\"fixed_table\"] = False\n",
    "p[\"determinism\"] = 1\n",
    "p[\"genome_file\"] = os.path.join(data_dir, \"Genomes_N{n_genes}_C{high_colour}_T{threshold}_B{phenotype_builds}_D{determinism}_S{low_colour}.txt\".format(**p))\n",
    "p[\"table_file\"] = os.path.join(data_dir, \"PhenotypeTable_D{determinism}.txt\".format(**p))\n",
    "p[\"gpmap_file\"] = os.path.join(data_dir, \"Gpmap_N{n_genes}_C{high_colour}_T{threshold}_B{phenotype_builds}_D{determinism}_S{low_colour}.txt\".format(**p))\n",
    "p[\"threshold\"] /= 100"
   ]
  },
  {
   "cell_type": "code",
   "execution_count": null,
   "metadata": {
    "ExecuteTime": {
     "end_time": "2019-02-08T19:00:37.904843Z",
     "start_time": "2019-02-08T19:00:37.724799Z"
    }
   },
   "outputs": [],
   "source": [
    "minimal_genomes = gp.MinimalGenomes(**p);\n",
    "uniques = [];\n",
    "for pIDs, genomes in gp.MinimalMap(**p).items():\n",
    "    uniques.extend(graph_topo.TrimTopo(genomes))\n",
    "    \n",
    "print(len(uniques), len(minimal_genomes))"
   ]
  },
  {
   "cell_type": "code",
   "execution_count": null,
   "metadata": {
    "ExecuteTime": {
     "end_time": "2019-02-08T19:01:14.052700Z",
     "start_time": "2019-02-08T19:01:14.024113Z"
    }
   },
   "outputs": [],
   "source": [
    "dup_uniques = []\n",
    "p.pop(\"genome_file\", None)\n",
    "p.pop(\"gpmap_file\", None)\n",
    "\n",
    "for pIDs, genomes in gp.MinimalMap(genomes=gp.GenomesDuplication(uniques), **p).items():\n",
    "    dup_uniques.extend(graph_topo.TrimTopo(genomes))"
   ]
  },
  {
   "cell_type": "code",
   "execution_count": null,
   "metadata": {
    "ExecuteTime": {
     "end_time": "2019-02-08T19:01:30.360768Z",
     "start_time": "2019-02-08T19:01:30.350488Z"
    }
   },
   "outputs": [],
   "source": [
    "p[\"n_genes\"] += 1\n",
    "p[\"phenotype_builds\"] = p[\"n_genes\"] * 50\n",
    "p[\"gen_colour\"] = p[\"high_colour\"]\n",
    "p[\"high_colour\"] += 2\n",
    "p[\"threshold\"] = int(p['threshold'] * 100)\n",
    "p[\"n_jiggle\"] = 1000\n",
    "p[\"dup_aware\"] = True\n",
    "p.pop(\"genome_file\", None)\n",
    "p[\"genomes\"] = dup_uniques\n",
    "p[\"genome_metric_file\"] = os.path.join(data_dir, \"GenomeMetricsDuplicate_N{n_genes}_C{gen_colour}_T{threshold}_B{phenotype_builds}_Cx{high_colour}_J{n_jiggle}_D{determinism}_S{low_colour}.txt\".format(**p))\n",
    "p[\"set_metric_file\"] = os.path.join(data_dir, \"SetMetricsDuplicate_N{n_genes}_C{gen_colour}_T{threshold}_B{phenotype_builds}_Cx{high_colour}_J{n_jiggle}_D{determinism}_S{low_colour}.txt\".format(**p))\n",
    "p[\"threshold\"] /= 100"
   ]
  },
  {
   "cell_type": "code",
   "execution_count": null,
   "metadata": {
    "ExecuteTime": {
     "end_time": "2019-02-08T19:04:21.106432Z",
     "start_time": "2019-02-08T19:01:33.094090Z"
    }
   },
   "outputs": [],
   "source": [
    "gp.MetricSampling(**p)"
   ]
  },
  {
   "cell_type": "code",
   "execution_count": null,
   "metadata": {},
   "outputs": [],
   "source": []
  }
 ],
 "metadata": {
  "@webio": {
   "lastCommId": "EF705825845C423883AE42D396F63897",
   "lastKernelId": "9f52e5a9-7896-4335-883d-129a32d0313c"
  },
  "kernelspec": {
   "display_name": "integer_polyomino",
   "language": "python",
   "name": "integer_polyomino"
  },
  "language_info": {
   "codemirror_mode": {
    "name": "ipython",
    "version": 3
   },
   "file_extension": ".py",
   "mimetype": "text/x-python",
   "name": "python",
   "nbconvert_exporter": "python",
   "pygments_lexer": "ipython3",
   "version": "3.6.8"
  }
 },
 "nbformat": 4,
 "nbformat_minor": 2
}
