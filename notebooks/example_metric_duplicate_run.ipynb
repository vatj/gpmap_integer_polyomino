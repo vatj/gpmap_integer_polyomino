{
 "cells": [
  {
   "cell_type": "code",
   "execution_count": 1,
   "metadata": {
    "ExecuteTime": {
     "end_time": "2019-02-08T19:00:37.052634Z",
     "start_time": "2019-02-08T19:00:37.041476Z"
    }
   },
   "outputs": [
    {
     "data": {
      "text/plain": [
       "15"
      ]
     },
     "execution_count": 1,
     "metadata": {},
     "output_type": "execute_result"
    }
   ],
   "source": [
    "import sys, os\n",
    "os.nice(15)"
   ]
  },
  {
   "cell_type": "code",
   "execution_count": 2,
   "metadata": {
    "ExecuteTime": {
     "end_time": "2019-02-08T19:00:37.592929Z",
     "start_time": "2019-02-08T19:00:37.054814Z"
    }
   },
   "outputs": [],
   "source": [
    "import integer_polyomino.assembly as ipa\n",
    "import integer_polyomino.gpmap as gp\n",
    "from integer_polyomino.scripts import graph_topo"
   ]
  },
  {
   "cell_type": "code",
   "execution_count": 3,
   "metadata": {
    "ExecuteTime": {
     "end_time": "2019-02-08T19:00:37.597369Z",
     "start_time": "2019-02-08T19:00:37.594364Z"
    }
   },
   "outputs": [],
   "source": [
    "data_dir = os.path.join(os.getcwd(), \"test\", \"data\")\n",
    "if not os.path.exists(data_dir):\n",
    "    os.makedirs(data_dir)"
   ]
  },
  {
   "cell_type": "code",
   "execution_count": 4,
   "metadata": {
    "ExecuteTime": {
     "end_time": "2019-02-08T19:00:37.721696Z",
     "start_time": "2019-02-08T19:00:37.599521Z"
    }
   },
   "outputs": [],
   "source": [
    "p = dict()\n",
    "\n",
    "p[\"n_genes\"] = 2\n",
    "p[\"low_colour\"] = 0\n",
    "p[\"high_colour\"] = 6\n",
    "p[\"threshold\"] = 25\n",
    "p[\"phenotype_builds\"] = p[\"n_genes\"] * 50\n",
    "p[\"fixed_table\"] = False\n",
    "p[\"determinism\"] = 1\n",
    "p[\"genome_file\"] = os.path.join(data_dir, \"Genomes_N{n_genes}_C{high_colour}_T{threshold}_B{phenotype_builds}_D{determinism}_S{low_colour}.txt\".format(**p))\n",
    "p[\"table_file\"] = os.path.join(data_dir, \"PhenotypeTable_D{determinism}.txt\".format(**p))\n",
    "p[\"gpmap_file\"] = os.path.join(data_dir, \"Gpmap_N{n_genes}_C{high_colour}_T{threshold}_B{phenotype_builds}_D{determinism}_S{low_colour}.txt\".format(**p))\n",
    "p[\"threshold\"] /= 100"
   ]
  },
  {
   "cell_type": "code",
   "execution_count": 5,
   "metadata": {
    "ExecuteTime": {
     "end_time": "2019-02-08T19:00:37.904843Z",
     "start_time": "2019-02-08T19:00:37.724799Z"
    }
   },
   "outputs": [
    {
     "name": "stdout",
     "output_type": "stream",
     "text": [
      "Generating all minimal samples\n",
      "Threshold is : 25.0 out of 100 builds\n",
      "Final Values : Found 14 out of 62 generated\n",
      "Printing 14 genomes to file : /home/phd/Projects/Github/integer_polyomino/notebooks/test/data/Genomes_N2_C6_T25_B100_D1_S0.txt\n",
      "Loading genome from file : /home/phd/Projects/Github/integer_polyomino/notebooks/test/data/Genomes_N2_C6_T25_B100_D1_S0.txt\n",
      "Mapping 14 genomes, building 100 th times\n",
      "Currently preprocessing genome : 0 out of 14\n",
      "The GP-Map has been built!\n",
      "Printing preprocessed genomes to file : /home/phd/Projects/Github/integer_polyomino/notebooks/test/data/Gpmap_N2_C6_T25_B100_D1_S0.txt\n",
      "12 14\n"
     ]
    }
   ],
   "source": [
    "minimal_genomes = gp.MinimalGenomes(**p);\n",
    "uniques = [];\n",
    "for pIDs, genomes in gp.MinimalMap(**p).items():\n",
    "    uniques.extend(graph_topo.TrimTopo(genomes))\n",
    "    \n",
    "print(len(uniques), len(minimal_genomes))"
   ]
  },
  {
   "cell_type": "code",
   "execution_count": 6,
   "metadata": {
    "ExecuteTime": {
     "end_time": "2019-02-08T19:01:14.052700Z",
     "start_time": "2019-02-08T19:01:14.024113Z"
    }
   },
   "outputs": [
    {
     "name": "stdout",
     "output_type": "stream",
     "text": [
      "Adding duplicate genes to 12 genomes\n",
      "Mapping 24 genomes, building 100 th times\n",
      "Currently preprocessing genome : 0 out of 24\n",
      "The GP-Map has been built!\n"
     ]
    }
   ],
   "source": [
    "dup_uniques = []\n",
    "p.pop(\"genome_file\", None)\n",
    "p.pop(\"gpmap_file\", None)\n",
    "\n",
    "for pIDs, genomes in gp.MinimalMap(genomes=gp.GenomesDuplication(uniques), **p).items():\n",
    "    dup_uniques.extend(graph_topo.TrimTopo(genomes))"
   ]
  },
  {
   "cell_type": "code",
   "execution_count": 7,
   "metadata": {
    "ExecuteTime": {
     "end_time": "2019-02-08T19:01:30.360768Z",
     "start_time": "2019-02-08T19:01:30.350488Z"
    }
   },
   "outputs": [],
   "source": [
    "p[\"n_genes\"] += 1\n",
    "p[\"phenotype_builds\"] = p[\"n_genes\"] * 50\n",
    "p[\"gen_colour\"] = p[\"high_colour\"]\n",
    "p[\"high_colour\"] += 2\n",
    "p[\"threshold\"] = int(p['threshold'] * 100)\n",
    "p[\"n_jiggle\"] = 1000\n",
    "p[\"dup_aware\"] = True\n",
    "p.pop(\"genome_file\", None)\n",
    "p[\"genomes\"] = dup_uniques\n",
    "p[\"genome_metric_file\"] = os.path.join(data_dir, \"GenomeMetricsDuplicate_N{n_genes}_C{gen_colour}_T{threshold}_B{phenotype_builds}_Cx{high_colour}_J{n_jiggle}_D{determinism}_S{low_colour}.txt\".format(**p))\n",
    "p[\"set_metric_file\"] = os.path.join(data_dir, \"SetMetricsDuplicate_N{n_genes}_C{gen_colour}_T{threshold}_B{phenotype_builds}_Cx{high_colour}_J{n_jiggle}_D{determinism}_S{low_colour}.txt\".format(**p))\n",
    "p[\"threshold\"] /= 100"
   ]
  },
  {
   "cell_type": "code",
   "execution_count": 8,
   "metadata": {
    "ExecuteTime": {
     "end_time": "2019-02-08T19:04:21.106432Z",
     "start_time": "2019-02-08T19:01:33.094090Z"
    }
   },
   "outputs": [
    {
     "name": "stdout",
     "output_type": "stream",
     "text": [
      "Mapping 20 genomes, building 150 th times\n",
      "Currently preprocessing genome : 0 out of 20\n",
      "The GP-Map has been built!\n",
      "There are 20 genomes to jiggle a 1000 times!\n",
      "Currently processing 1 genomes for { ( 2 , 0 ), }. Only  19  left!\n",
      "Currently processing 2 genomes for { ( 3 , 0 ), }. Only  17  left!\n",
      "Currently processing 2 genomes for { ( 3 , 1 ), }. Only  15  left!\n",
      "Currently processing 5 genomes for { ( 4 , 0 ), }. Only  10  left!\n",
      "Currently processing 2 genomes for { ( 4 , 1 ), }. Only  8  left!\n",
      "Currently processing 2 genomes for { ( 5 , 0 ), }. Only  6  left!\n",
      "Currently processing 2 genomes for { ( 8 , 0 ), }. Only  4  left!\n",
      "Currently processing 2 genomes for { ( 8 , 1 ), }. Only  2  left!\n",
      "Currently processing 2 genomes for { ( 12 , 0 ), }. Only  0  left!\n",
      "Metric Sampling has ended!\n"
     ]
    }
   ],
   "source": [
    "gp.MetricSampling(**p)"
   ]
  },
  {
   "cell_type": "code",
   "execution_count": null,
   "metadata": {},
   "outputs": [],
   "source": []
  }
 ],
 "metadata": {
  "@webio": {
   "lastCommId": "EF705825845C423883AE42D396F63897",
   "lastKernelId": "9f52e5a9-7896-4335-883d-129a32d0313c"
  },
  "kernelspec": {
   "display_name": "release_polyo",
   "language": "python",
   "name": "release_polyo"
  },
  "language_info": {
   "codemirror_mode": {
    "name": "ipython",
    "version": 3
   },
   "file_extension": ".py",
   "mimetype": "text/x-python",
   "name": "python",
   "nbconvert_exporter": "python",
   "pygments_lexer": "ipython3",
   "version": "3.6.9"
  }
 },
 "nbformat": 4,
 "nbformat_minor": 2
}
